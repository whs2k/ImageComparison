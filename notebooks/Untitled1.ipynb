{
 "cells": [
  {
   "cell_type": "code",
   "execution_count": 20,
   "metadata": {},
   "outputs": [],
   "source": [
    "import pandas as pd\n",
    "import os\n",
    "import glob2"
   ]
  },
  {
   "cell_type": "code",
   "execution_count": 21,
   "metadata": {},
   "outputs": [
    {
     "data": {
      "text/html": [
       "<div>\n",
       "<style scoped>\n",
       "    .dataframe tbody tr th:only-of-type {\n",
       "        vertical-align: middle;\n",
       "    }\n",
       "\n",
       "    .dataframe tbody tr th {\n",
       "        vertical-align: top;\n",
       "    }\n",
       "\n",
       "    .dataframe thead th {\n",
       "        text-align: right;\n",
       "    }\n",
       "</style>\n",
       "<table border=\"1\" class=\"dataframe\">\n",
       "  <thead>\n",
       "    <tr style=\"text-align: right;\">\n",
       "      <th></th>\n",
       "      <th>fn</th>\n",
       "      <th>vector</th>\n",
       "    </tr>\n",
       "  </thead>\n",
       "  <tbody>\n",
       "    <tr>\n",
       "      <th>13296</th>\n",
       "      <td>/Users/officialbiznas/Documents/GitHub/ImageSi...</td>\n",
       "      <td>[0.00012868743, 0.00046267835, 0.001261736, 0....</td>\n",
       "    </tr>\n",
       "    <tr>\n",
       "      <th>13297</th>\n",
       "      <td>/Users/officialbiznas/Documents/GitHub/ImageSi...</td>\n",
       "      <td>[0.00010963136, 0.00078119047, 0.00069774885, ...</td>\n",
       "    </tr>\n",
       "    <tr>\n",
       "      <th>13298</th>\n",
       "      <td>/Users/officialbiznas/Documents/GitHub/ImageSi...</td>\n",
       "      <td>[7.103005e-05, 0.0005639199, 0.0014699348, 0.0...</td>\n",
       "    </tr>\n",
       "    <tr>\n",
       "      <th>13299</th>\n",
       "      <td>/Users/officialbiznas/Documents/GitHub/ImageSi...</td>\n",
       "      <td>[6.723835e-05, 0.00016268785, 0.0013753219, 0....</td>\n",
       "    </tr>\n",
       "    <tr>\n",
       "      <th>13300</th>\n",
       "      <td>/Users/officialbiznas/Documents/GitHub/ImageSi...</td>\n",
       "      <td>[7.174302e-05, 0.0002663676, 0.0013546656, 0.0...</td>\n",
       "    </tr>\n",
       "  </tbody>\n",
       "</table>\n",
       "</div>"
      ],
      "text/plain": [
       "                                                      fn  \\\n",
       "13296  /Users/officialbiznas/Documents/GitHub/ImageSi...   \n",
       "13297  /Users/officialbiznas/Documents/GitHub/ImageSi...   \n",
       "13298  /Users/officialbiznas/Documents/GitHub/ImageSi...   \n",
       "13299  /Users/officialbiznas/Documents/GitHub/ImageSi...   \n",
       "13300  /Users/officialbiznas/Documents/GitHub/ImageSi...   \n",
       "\n",
       "                                                  vector  \n",
       "13296  [0.00012868743, 0.00046267835, 0.001261736, 0....  \n",
       "13297  [0.00010963136, 0.00078119047, 0.00069774885, ...  \n",
       "13298  [7.103005e-05, 0.0005639199, 0.0014699348, 0.0...  \n",
       "13299  [6.723835e-05, 0.00016268785, 0.0013753219, 0....  \n",
       "13300  [7.174302e-05, 0.0002663676, 0.0013546656, 0.0...  "
      ]
     },
     "execution_count": 21,
     "metadata": {},
     "output_type": "execute_result"
    }
   ],
   "source": [
    "fn_df_load = os.path.join(os.path.dirname(os.getcwd()), 'data', 'processed','0.0.4-whs-dogVectors.pickle')\n",
    "df = pd.read_pickle(fn_df_load)\n",
    "df.tail()"
   ]
  },
  {
   "cell_type": "code",
   "execution_count": 19,
   "metadata": {},
   "outputs": [
    {
     "data": {
      "text/plain": [
       "18127"
      ]
     },
     "execution_count": 19,
     "metadata": {},
     "output_type": "execute_result"
    }
   ],
   "source": [
    "fns = glob2.glob(os.path.join(os.path.dirname(os.getcwd()), 'data', 'raw','**/*.jpg'))\n",
    "len(fns)"
   ]
  },
  {
   "cell_type": "code",
   "execution_count": null,
   "metadata": {},
   "outputs": [],
   "source": []
  }
 ],
 "metadata": {
  "kernelspec": {
   "display_name": "Python 3",
   "language": "python",
   "name": "python3"
  },
  "language_info": {
   "codemirror_mode": {
    "name": "ipython",
    "version": 3
   },
   "file_extension": ".py",
   "mimetype": "text/x-python",
   "name": "python",
   "nbconvert_exporter": "python",
   "pygments_lexer": "ipython3",
   "version": "3.6.8"
  }
 },
 "nbformat": 4,
 "nbformat_minor": 2
}
