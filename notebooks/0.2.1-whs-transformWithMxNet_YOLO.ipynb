{
 "cells": [
  {
   "cell_type": "code",
   "execution_count": 1,
   "metadata": {},
   "outputs": [],
   "source": [
    "import mxnet as mx\n",
    "from mxnet.gluon.model_zoo import vision\n",
    "import os\n",
    "import numpy as np\n",
    "import glob\n",
    "import pandas as pd\n",
    "#from scipy.spatial.distance import cosine\n",
    "from IPython.display import Image \n",
    "\n",
    "# set the context on CPU, switch to GPU if there is one available\n",
    "ctx = mx.cpu()\n",
    "\n",
    "import glob2\n",
    "from tqdm import tqdm\n",
    "import traceback"
   ]
  },
  {
   "cell_type": "code",
   "execution_count": 10,
   "metadata": {},
   "outputs": [],
   "source": [
    "def prePrep(image_fn):\n",
    "    '''\n",
    "    inputs: full image fn\n",
    "    output: numpy vector\n",
    "    '''\n",
    "    image = mx.image.imdecode(open(image_fn, 'rb').read()).astype(np.float32)\n",
    "    resized = mx.image.resize_short(image, 224) #minimum 224x224 images\n",
    "    cropped, crop_info = mx.image.center_crop(resized, (224, 224))\n",
    "    normalized = mx.image.color_normalize(cropped/255,\n",
    "                                          mean=mx.nd.array([0.485, 0.456, 0.406]),\n",
    "                                          std=mx.nd.array([0.229, 0.224, 0.225])) \n",
    "    # the network expect batches of the form (N,3,224,224)\n",
    "    flipped_axis = normalized.transpose((2,0,1))  # Flipping from (224, 224, 3) to (3, 224, 224)\n",
    "    batchified = flipped_axis.expand_dims(axis=0) # change the shape from (3, 224, 224) to (1, 3, 224, 224)\n",
    "    return densenet.features(batchified)[0].asnumpy()"
   ]
  },
  {
   "cell_type": "code",
   "execution_count": 11,
   "metadata": {},
   "outputs": [
    {
     "name": "stdout",
     "output_type": "stream",
     "text": [
      "CPU times: user 563 ms, sys: 347 ms, total: 910 ms\n",
      "Wall time: 791 ms\n"
     ]
    },
    {
     "data": {
      "text/plain": [
       "mxnet.gluon.model_zoo.vision.densenet.DenseNet"
      ]
     },
     "execution_count": 11,
     "metadata": {},
     "output_type": "execute_result"
    }
   ],
   "source": [
    "%time densenet = vision.densenet201(pretrained=True)\n",
    "type(densenet)\n"
   ]
  },
  {
   "cell_type": "code",
   "execution_count": 12,
   "metadata": {},
   "outputs": [
    {
     "name": "stdout",
     "output_type": "stream",
     "text": [
      "Now Apply-ing\n",
      "CPU times: user 1h 46min 26s, sys: 21min 7s, total: 2h 7min 34s\n",
      "Wall time: 1h 18min 49s\n",
      "Done Apply-ing\n",
      "fn        /Users/officialbiznas/Documents/GitHub/ImageSi...\n",
      "vector    [0.00018894675, 0.00061339705, 0.00079586904, ...\n",
      "Name: 0, dtype: object\n",
      "fn        /Users/officialbiznas/Documents/GitHub/ImageSi...\n",
      "vector    [0.000119404496, 0.0006975044, 0.0014746733, 0...\n",
      "Name: 1, dtype: object\n",
      "fn        /Users/officialbiznas/Documents/GitHub/ImageSi...\n",
      "vector    [0.00014220878, 0.0006950608, 0.00049114495, 0...\n",
      "Name: 2, dtype: object\n"
     ]
    },
    {
     "data": {
      "text/html": [
       "<div>\n",
       "<style scoped>\n",
       "    .dataframe tbody tr th:only-of-type {\n",
       "        vertical-align: middle;\n",
       "    }\n",
       "\n",
       "    .dataframe tbody tr th {\n",
       "        vertical-align: top;\n",
       "    }\n",
       "\n",
       "    .dataframe thead th {\n",
       "        text-align: right;\n",
       "    }\n",
       "</style>\n",
       "<table border=\"1\" class=\"dataframe\">\n",
       "  <thead>\n",
       "    <tr style=\"text-align: right;\">\n",
       "      <th></th>\n",
       "      <th>fn</th>\n",
       "      <th>vector</th>\n",
       "    </tr>\n",
       "  </thead>\n",
       "  <tbody>\n",
       "    <tr>\n",
       "      <th>13727</th>\n",
       "      <td>/Users/officialbiznas/Documents/GitHub/ImageSi...</td>\n",
       "      <td>[3.1997246e-05, 0.0008480548, 0.0012421325, 0....</td>\n",
       "    </tr>\n",
       "    <tr>\n",
       "      <th>13728</th>\n",
       "      <td>/Users/officialbiznas/Documents/GitHub/ImageSi...</td>\n",
       "      <td>[8.132245e-05, 0.00022717057, 0.0008501709, 0....</td>\n",
       "    </tr>\n",
       "    <tr>\n",
       "      <th>13729</th>\n",
       "      <td>/Users/officialbiznas/Documents/GitHub/ImageSi...</td>\n",
       "      <td>[0.000101137535, 0.00038972704, 0.0012809561, ...</td>\n",
       "    </tr>\n",
       "    <tr>\n",
       "      <th>13730</th>\n",
       "      <td>/Users/officialbiznas/Documents/GitHub/ImageSi...</td>\n",
       "      <td>[0.00010224942, 0.0005458238, 0.0010494854, 0....</td>\n",
       "    </tr>\n",
       "    <tr>\n",
       "      <th>13731</th>\n",
       "      <td>/Users/officialbiznas/Documents/GitHub/ImageSi...</td>\n",
       "      <td>[4.8892372e-05, 0.00070208136, 0.001129705, 0....</td>\n",
       "    </tr>\n",
       "  </tbody>\n",
       "</table>\n",
       "</div>"
      ],
      "text/plain": [
       "                                                      fn  \\\n",
       "13727  /Users/officialbiznas/Documents/GitHub/ImageSi...   \n",
       "13728  /Users/officialbiznas/Documents/GitHub/ImageSi...   \n",
       "13729  /Users/officialbiznas/Documents/GitHub/ImageSi...   \n",
       "13730  /Users/officialbiznas/Documents/GitHub/ImageSi...   \n",
       "13731  /Users/officialbiznas/Documents/GitHub/ImageSi...   \n",
       "\n",
       "                                                  vector  \n",
       "13727  [3.1997246e-05, 0.0008480548, 0.0012421325, 0....  \n",
       "13728  [8.132245e-05, 0.00022717057, 0.0008501709, 0....  \n",
       "13729  [0.000101137535, 0.00038972704, 0.0012809561, ...  \n",
       "13730  [0.00010224942, 0.0005458238, 0.0010494854, 0....  \n",
       "13731  [4.8892372e-05, 0.00070208136, 0.001129705, 0....  "
      ]
     },
     "execution_count": 12,
     "metadata": {},
     "output_type": "execute_result"
    }
   ],
   "source": [
    "#all_header_files = glob2.glob('src/**/*_dogCrop.jpg')\n",
    "fn_df_save = os.path.join(os.path.dirname(os.getcwd()), 'data', 'processed','0.0.6-whs-dogVectors.h5')\n",
    "#fn_df_load = os.path.join(os.path.dirname(os.getcwd()), 'data', 'processed','0.0.3-whs-dogVectors.h5')\n",
    "if not os.path.isdir(os.path.dirname(fn_df_save)):\n",
    "    os.mkdir(os.path.dirname(fn_df_save))\n",
    "\n",
    "df = pd.DataFrame()\n",
    "df['fn'] = None\n",
    "df['vector'] = None\n",
    "fns = glob2.glob(os.path.join(os.path.dirname(os.getcwd()), 'data', 'raw','**/*_dogCrop.jpg'))\n",
    "df['fn'] = fns\n",
    "'''for index, fn in enumerate(tqdm(fns)):\n",
    "    #print('Processing: ',fn)\n",
    "    if os.path.isdir(fn):\n",
    "        fn = glob.iglob(os.path.join(fns, '*'))\n",
    "    df.loc[index,'fn'] = fn\n",
    "'''\n",
    "\n",
    "print('Now Apply-ing')\n",
    "%time df['vector'] = df['fn'].apply(lambda x: prePrep(x))\n",
    "print('Done Apply-ing')\n",
    "df.to_hdf(fn_df_save, key='df')\n",
    "for i in range(3):\n",
    "    print(df.loc[i])\n",
    "df.tail()"
   ]
  },
  {
   "cell_type": "code",
   "execution_count": null,
   "metadata": {},
   "outputs": [],
   "source": []
  },
  {
   "cell_type": "code",
   "execution_count": null,
   "metadata": {},
   "outputs": [],
   "source": []
  },
  {
   "cell_type": "code",
   "execution_count": 4,
   "metadata": {},
   "outputs": [],
   "source": [
    "#df['vector'].loc[0]\n",
    "#fn_save = os.path.join(os.path.dirname(os.getcwd()), 'data', 'processed','0.0.2-whs-dogVectors.pickle')\n",
    "#df.to_pickle(fn_save)"
   ]
  },
  {
   "cell_type": "code",
   "execution_count": 5,
   "metadata": {},
   "outputs": [
    {
     "data": {
      "text/plain": [
       "\"\\ndf = pd.read_pickle(fn_save)\\nlabels = [df['fn'].loc[index].split('/')[-1] for index in range(df.count()[0])]\\ndf_cross = pd.DataFrame(columns=labels, index=labels)\\nfor index in range(df.count()[0]):\\n    for sub_index in range(df.count()[0]):\\n        u = df['vector'].loc[index]\\n        v = df['vector'].loc[sub_index]\\n        label1 = df['fn'].loc[index].split('/')[-1]\\n        label2 = df['fn'].loc[sub_index].split('/')[-1]\\n        df_cross[label1][label2] = np.dot(u,v) / (np.linalg.norm(u) * np.linalg.norm(v))\\ndf_cross.tail()\\n\""
      ]
     },
     "execution_count": 5,
     "metadata": {},
     "output_type": "execute_result"
    }
   ],
   "source": [
    "'''\n",
    "df = pd.read_pickle(fn_save)\n",
    "labels = [df['fn'].loc[index].split('/')[-1] for index in range(df.count()[0])]\n",
    "df_cross = pd.DataFrame(columns=labels, index=labels)\n",
    "for index in range(df.count()[0]):\n",
    "    for sub_index in range(df.count()[0]):\n",
    "        u = df['vector'].loc[index]\n",
    "        v = df['vector'].loc[sub_index]\n",
    "        label1 = df['fn'].loc[index].split('/')[-1]\n",
    "        label2 = df['fn'].loc[sub_index].split('/')[-1]\n",
    "        df_cross[label1][label2] = np.dot(u,v) / (np.linalg.norm(u) * np.linalg.norm(v))\n",
    "df_cross.tail()\n",
    "'''"
   ]
  },
  {
   "cell_type": "code",
   "execution_count": null,
   "metadata": {},
   "outputs": [],
   "source": []
  },
  {
   "cell_type": "code",
   "execution_count": null,
   "metadata": {},
   "outputs": [],
   "source": []
  }
 ],
 "metadata": {
  "kernelspec": {
   "display_name": "Python 3",
   "language": "python",
   "name": "python3"
  },
  "language_info": {
   "codemirror_mode": {
    "name": "ipython",
    "version": 3
   },
   "file_extension": ".py",
   "mimetype": "text/x-python",
   "name": "python",
   "nbconvert_exporter": "python",
   "pygments_lexer": "ipython3",
   "version": "3.6.8"
  }
 },
 "nbformat": 4,
 "nbformat_minor": 2
}
