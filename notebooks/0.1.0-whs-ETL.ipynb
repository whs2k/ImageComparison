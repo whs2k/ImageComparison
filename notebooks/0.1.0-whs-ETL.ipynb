{
 "cells": [
  {
   "cell_type": "markdown",
   "metadata": {},
   "source": [
    "## Goal\n",
    "Estimate Number of Dog API Dogs"
   ]
  },
  {
   "cell_type": "markdown",
   "metadata": {},
   "source": [
    "## Steps\n",
    "1. Misbehave\n",
    "2. Get list of all breeds\n",
    "3. Get max list of all dogs (including sub-breeds)\n",
    "4. Estimate number of dogs\n",
    "4. Download and convert each image"
   ]
  },
  {
   "cell_type": "code",
   "execution_count": 19,
   "metadata": {},
   "outputs": [],
   "source": [
    "import requests\n",
    "from tqdm import tqdm\n",
    "import shutil\n",
    "import os\n"
   ]
  },
  {
   "cell_type": "code",
   "execution_count": 27,
   "metadata": {},
   "outputs": [
    {
     "data": {
      "text/plain": [
       "'african'"
      ]
     },
     "execution_count": 27,
     "metadata": {},
     "output_type": "execute_result"
    }
   ],
   "source": [
    "dog_breedList_url = 'https://dog.ceo/api/breeds/list/all'\n",
    "breeds = requests.get(dog_breedList_url).json()['message']\n",
    "breed_list = [*breeds]\n",
    "breed_list[1]"
   ]
  },
  {
   "cell_type": "code",
   "execution_count": 30,
   "metadata": {
    "scrolled": true
   },
   "outputs": [
    {
     "name": "stdout",
     "output_type": "stream",
     "text": [
      "https://dog.ceo/api/breed/affenpinscher/images/random/10000000\n",
      "['https://images.dog.ceo/breeds/affenpinscher/n02110627_10147.jpg', 'https://images.dog.ceo/breeds/affenpinscher/n02110627_10185.jpg', 'https://images.dog.ceo/breeds/affenpinscher/n02110627_10225.jpg', 'https://images.dog.ceo/breeds/affenpinscher/n02110627_10437.jpg', 'https://images.dog.ceo/breeds/affenpinscher/n02110627_10439.jpg', 'https://images.dog.ceo/breeds/affenpinscher/n02110627_10447.jpg', 'https://images.dog.ceo/breeds/affenpinscher/n02110627_10680.jpg', 'https://images.dog.ceo/breeds/affenpinscher/n02110627_10787.jpg', 'https://images.dog.ceo/breeds/affenpinscher/n02110627_10848.jpg', 'https://images.dog.ceo/breeds/affenpinscher/n02110627_10859.jpg', 'https://images.dog.ceo/breeds/affenpinscher/n02110627_10986.jpg', 'https://images.dog.ceo/breeds/affenpinscher/n02110627_11211.jpg', 'https://images.dog.ceo/breeds/affenpinscher/n02110627_11262.jpg', 'https://images.dog.ceo/breeds/affenpinscher/n02110627_11263.jpg', 'https://images.dog.ceo/breeds/affenpinscher/n02110627_11279.jpg', 'https://images.dog.ceo/breeds/affenpinscher/n02110627_11283.jpg', 'https://images.dog.ceo/breeds/affenpinscher/n02110627_11345.jpg', 'https://images.dog.ceo/breeds/affenpinscher/n02110627_11365.jpg', 'https://images.dog.ceo/breeds/affenpinscher/n02110627_11422.jpg', 'https://images.dog.ceo/breeds/affenpinscher/n02110627_11435.jpg', 'https://images.dog.ceo/breeds/affenpinscher/n02110627_11584.jpg', 'https://images.dog.ceo/breeds/affenpinscher/n02110627_11614.jpg', 'https://images.dog.ceo/breeds/affenpinscher/n02110627_11620.jpg', 'https://images.dog.ceo/breeds/affenpinscher/n02110627_11657.jpg', 'https://images.dog.ceo/breeds/affenpinscher/n02110627_11663.jpg', 'https://images.dog.ceo/breeds/affenpinscher/n02110627_11759.jpg', 'https://images.dog.ceo/breeds/affenpinscher/n02110627_11782.jpg', 'https://images.dog.ceo/breeds/affenpinscher/n02110627_11783.jpg', 'https://images.dog.ceo/breeds/affenpinscher/n02110627_11798.jpg', 'https://images.dog.ceo/breeds/affenpinscher/n02110627_11811.jpg', 'https://images.dog.ceo/breeds/affenpinscher/n02110627_11819.jpg', 'https://images.dog.ceo/breeds/affenpinscher/n02110627_11835.jpg', 'https://images.dog.ceo/breeds/affenpinscher/n02110627_11853.jpg', 'https://images.dog.ceo/breeds/affenpinscher/n02110627_11858.jpg', 'https://images.dog.ceo/breeds/affenpinscher/n02110627_11875.jpg', 'https://images.dog.ceo/breeds/affenpinscher/n02110627_11942.jpg', 'https://images.dog.ceo/breeds/affenpinscher/n02110627_12003.jpg', 'https://images.dog.ceo/breeds/affenpinscher/n02110627_12025.jpg', 'https://images.dog.ceo/breeds/affenpinscher/n02110627_12070.jpg', 'https://images.dog.ceo/breeds/affenpinscher/n02110627_12077.jpg', 'https://images.dog.ceo/breeds/affenpinscher/n02110627_12227.jpg', 'https://images.dog.ceo/breeds/affenpinscher/n02110627_12272.jpg', 'https://images.dog.ceo/breeds/affenpinscher/n02110627_12391.jpg', 'https://images.dog.ceo/breeds/affenpinscher/n02110627_12431.jpg', 'https://images.dog.ceo/breeds/affenpinscher/n02110627_12512.jpg', 'https://images.dog.ceo/breeds/affenpinscher/n02110627_12556.jpg', 'https://images.dog.ceo/breeds/affenpinscher/n02110627_12579.jpg', 'https://images.dog.ceo/breeds/affenpinscher/n02110627_12676.jpg', 'https://images.dog.ceo/breeds/affenpinscher/n02110627_12808.jpg', 'https://images.dog.ceo/breeds/affenpinscher/n02110627_12819.jpg', 'https://images.dog.ceo/breeds/affenpinscher/n02110627_12893.jpg', 'https://images.dog.ceo/breeds/affenpinscher/n02110627_12913.jpg', 'https://images.dog.ceo/breeds/affenpinscher/n02110627_12938.jpg', 'https://images.dog.ceo/breeds/affenpinscher/n02110627_12973.jpg', 'https://images.dog.ceo/breeds/affenpinscher/n02110627_12997.jpg', 'https://images.dog.ceo/breeds/affenpinscher/n02110627_13014.jpg', 'https://images.dog.ceo/breeds/affenpinscher/n02110627_13020.jpg', 'https://images.dog.ceo/breeds/affenpinscher/n02110627_13032.jpg', 'https://images.dog.ceo/breeds/affenpinscher/n02110627_13060.jpg', 'https://images.dog.ceo/breeds/affenpinscher/n02110627_13210.jpg', 'https://images.dog.ceo/breeds/affenpinscher/n02110627_13211.jpg', 'https://images.dog.ceo/breeds/affenpinscher/n02110627_13221.jpg', 'https://images.dog.ceo/breeds/affenpinscher/n02110627_13417.jpg', 'https://images.dog.ceo/breeds/affenpinscher/n02110627_13420.jpg', 'https://images.dog.ceo/breeds/affenpinscher/n02110627_13453.jpg', 'https://images.dog.ceo/breeds/affenpinscher/n02110627_13499.jpg', 'https://images.dog.ceo/breeds/affenpinscher/n02110627_13553.jpg', 'https://images.dog.ceo/breeds/affenpinscher/n02110627_13567.jpg', 'https://images.dog.ceo/breeds/affenpinscher/n02110627_13590.jpg', 'https://images.dog.ceo/breeds/affenpinscher/n02110627_13654.jpg', 'https://images.dog.ceo/breeds/affenpinscher/n02110627_13662.jpg', 'https://images.dog.ceo/breeds/affenpinscher/n02110627_13665.jpg', 'https://images.dog.ceo/breeds/affenpinscher/n02110627_13710.jpg', 'https://images.dog.ceo/breeds/affenpinscher/n02110627_13782.jpg', 'https://images.dog.ceo/breeds/affenpinscher/n02110627_1387.jpg', 'https://images.dog.ceo/breeds/affenpinscher/n02110627_13939.jpg', 'https://images.dog.ceo/breeds/affenpinscher/n02110627_1446.jpg', 'https://images.dog.ceo/breeds/affenpinscher/n02110627_1559.jpg', 'https://images.dog.ceo/breeds/affenpinscher/n02110627_1581.jpg', 'https://images.dog.ceo/breeds/affenpinscher/n02110627_1844.jpg', 'https://images.dog.ceo/breeds/affenpinscher/n02110627_1966.jpg', 'https://images.dog.ceo/breeds/affenpinscher/n02110627_2157.jpg', 'https://images.dog.ceo/breeds/affenpinscher/n02110627_2327.jpg', 'https://images.dog.ceo/breeds/affenpinscher/n02110627_233.jpg', 'https://images.dog.ceo/breeds/affenpinscher/n02110627_2383.jpg', 'https://images.dog.ceo/breeds/affenpinscher/n02110627_2416.jpg', 'https://images.dog.ceo/breeds/affenpinscher/n02110627_2748.jpg', 'https://images.dog.ceo/breeds/affenpinscher/n02110627_2894.jpg', 'https://images.dog.ceo/breeds/affenpinscher/n02110627_2911.jpg', 'https://images.dog.ceo/breeds/affenpinscher/n02110627_2997.jpg', 'https://images.dog.ceo/breeds/affenpinscher/n02110627_3001.jpg', 'https://images.dog.ceo/breeds/affenpinscher/n02110627_3026.jpg', 'https://images.dog.ceo/breeds/affenpinscher/n02110627_3032.jpg', 'https://images.dog.ceo/breeds/affenpinscher/n02110627_3144.jpg', 'https://images.dog.ceo/breeds/affenpinscher/n02110627_3246.jpg', 'https://images.dog.ceo/breeds/affenpinscher/n02110627_3286.jpg', 'https://images.dog.ceo/breeds/affenpinscher/n02110627_3409.jpg', 'https://images.dog.ceo/breeds/affenpinscher/n02110627_3561.jpg', 'https://images.dog.ceo/breeds/affenpinscher/n02110627_3730.jpg', 'https://images.dog.ceo/breeds/affenpinscher/n02110627_3841.jpg', 'https://images.dog.ceo/breeds/affenpinscher/n02110627_3972.jpg', 'https://images.dog.ceo/breeds/affenpinscher/n02110627_4086.jpg', 'https://images.dog.ceo/breeds/affenpinscher/n02110627_4130.jpg', 'https://images.dog.ceo/breeds/affenpinscher/n02110627_4275.jpg', 'https://images.dog.ceo/breeds/affenpinscher/n02110627_4433.jpg', 'https://images.dog.ceo/breeds/affenpinscher/n02110627_4457.jpg', 'https://images.dog.ceo/breeds/affenpinscher/n02110627_4542.jpg', 'https://images.dog.ceo/breeds/affenpinscher/n02110627_4597.jpg', 'https://images.dog.ceo/breeds/affenpinscher/n02110627_4607.jpg', 'https://images.dog.ceo/breeds/affenpinscher/n02110627_475.jpg', 'https://images.dog.ceo/breeds/affenpinscher/n02110627_4839.jpg', 'https://images.dog.ceo/breeds/affenpinscher/n02110627_5186.jpg', 'https://images.dog.ceo/breeds/affenpinscher/n02110627_5361.jpg', 'https://images.dog.ceo/breeds/affenpinscher/n02110627_5522.jpg', 'https://images.dog.ceo/breeds/affenpinscher/n02110627_5743.jpg', 'https://images.dog.ceo/breeds/affenpinscher/n02110627_6069.jpg', 'https://images.dog.ceo/breeds/affenpinscher/n02110627_6310.jpg', 'https://images.dog.ceo/breeds/affenpinscher/n02110627_641.jpg', 'https://images.dog.ceo/breeds/affenpinscher/n02110627_6414.jpg', 'https://images.dog.ceo/breeds/affenpinscher/n02110627_6670.jpg', 'https://images.dog.ceo/breeds/affenpinscher/n02110627_6796.jpg', 'https://images.dog.ceo/breeds/affenpinscher/n02110627_6811.jpg', 'https://images.dog.ceo/breeds/affenpinscher/n02110627_6842.jpg', 'https://images.dog.ceo/breeds/affenpinscher/n02110627_6869.jpg', 'https://images.dog.ceo/breeds/affenpinscher/n02110627_6965.jpg', 'https://images.dog.ceo/breeds/affenpinscher/n02110627_6991.jpg', 'https://images.dog.ceo/breeds/affenpinscher/n02110627_7013.jpg', 'https://images.dog.ceo/breeds/affenpinscher/n02110627_7065.jpg', 'https://images.dog.ceo/breeds/affenpinscher/n02110627_735.jpg', 'https://images.dog.ceo/breeds/affenpinscher/n02110627_7404.jpg', 'https://images.dog.ceo/breeds/affenpinscher/n02110627_7612.jpg', 'https://images.dog.ceo/breeds/affenpinscher/n02110627_7680.jpg', 'https://images.dog.ceo/breeds/affenpinscher/n02110627_7694.jpg', 'https://images.dog.ceo/breeds/affenpinscher/n02110627_7770.jpg', 'https://images.dog.ceo/breeds/affenpinscher/n02110627_8033.jpg', 'https://images.dog.ceo/breeds/affenpinscher/n02110627_8048.jpg', 'https://images.dog.ceo/breeds/affenpinscher/n02110627_8050.jpg', 'https://images.dog.ceo/breeds/affenpinscher/n02110627_8071.jpg', 'https://images.dog.ceo/breeds/affenpinscher/n02110627_8099.jpg', 'https://images.dog.ceo/breeds/affenpinscher/n02110627_8154.jpg', 'https://images.dog.ceo/breeds/affenpinscher/n02110627_8250.jpg', 'https://images.dog.ceo/breeds/affenpinscher/n02110627_8519.jpg', 'https://images.dog.ceo/breeds/affenpinscher/n02110627_8621.jpg', 'https://images.dog.ceo/breeds/affenpinscher/n02110627_8695.jpg', 'https://images.dog.ceo/breeds/affenpinscher/n02110627_8714.jpg', 'https://images.dog.ceo/breeds/affenpinscher/n02110627_8856.jpg', 'https://images.dog.ceo/breeds/affenpinscher/n02110627_8949.jpg', 'https://images.dog.ceo/breeds/affenpinscher/n02110627_946.jpg', 'https://images.dog.ceo/breeds/affenpinscher/n02110627_9634.jpg', 'https://images.dog.ceo/breeds/affenpinscher/n02110627_9822.jpg']\n",
      "https://dog.ceo/api/breed/african/images/random/10000000\n"
     ]
    },
    {
     "name": "stdout",
     "output_type": "stream",
     "text": [
      "['https://images.dog.ceo/breeds/african/n02116738_10024.jpg', 'https://images.dog.ceo/breeds/african/n02116738_10038.jpg', 'https://images.dog.ceo/breeds/african/n02116738_10081.jpg', 'https://images.dog.ceo/breeds/african/n02116738_10169.jpg', 'https://images.dog.ceo/breeds/african/n02116738_10215.jpg', 'https://images.dog.ceo/breeds/african/n02116738_10469.jpg', 'https://images.dog.ceo/breeds/african/n02116738_10476.jpg', 'https://images.dog.ceo/breeds/african/n02116738_10493.jpg', 'https://images.dog.ceo/breeds/african/n02116738_10575.jpg', 'https://images.dog.ceo/breeds/african/n02116738_10614.jpg', 'https://images.dog.ceo/breeds/african/n02116738_10640.jpg', 'https://images.dog.ceo/breeds/african/n02116738_10872.jpg', 'https://images.dog.ceo/breeds/african/n02116738_10895.jpg', 'https://images.dog.ceo/breeds/african/n02116738_1097.jpg', 'https://images.dog.ceo/breeds/african/n02116738_1105.jpg', 'https://images.dog.ceo/breeds/african/n02116738_1180.jpg', 'https://images.dog.ceo/breeds/african/n02116738_124.jpg', 'https://images.dog.ceo/breeds/african/n02116738_1398.jpg', 'https://images.dog.ceo/breeds/african/n02116738_1591.jpg', 'https://images.dog.ceo/breeds/african/n02116738_1627.jpg', 'https://images.dog.ceo/breeds/african/n02116738_1739.jpg', 'https://images.dog.ceo/breeds/african/n02116738_1815.jpg', 'https://images.dog.ceo/breeds/african/n02116738_1849.jpg', 'https://images.dog.ceo/breeds/african/n02116738_1927.jpg', 'https://images.dog.ceo/breeds/african/n02116738_1948.jpg', 'https://images.dog.ceo/breeds/african/n02116738_2005.jpg', 'https://images.dog.ceo/breeds/african/n02116738_2020.jpg', 'https://images.dog.ceo/breeds/african/n02116738_204.jpg', 'https://images.dog.ceo/breeds/african/n02116738_2083.jpg', 'https://images.dog.ceo/breeds/african/n02116738_2139.jpg', 'https://images.dog.ceo/breeds/african/n02116738_219.jpg', 'https://images.dog.ceo/breeds/african/n02116738_2192.jpg', 'https://images.dog.ceo/breeds/african/n02116738_2327.jpg', 'https://images.dog.ceo/breeds/african/n02116738_2329.jpg', 'https://images.dog.ceo/breeds/african/n02116738_233.jpg', 'https://images.dog.ceo/breeds/african/n02116738_2344.jpg', 'https://images.dog.ceo/breeds/african/n02116738_2435.jpg', 'https://images.dog.ceo/breeds/african/n02116738_246.jpg', 'https://images.dog.ceo/breeds/african/n02116738_2482.jpg', 'https://images.dog.ceo/breeds/african/n02116738_2503.jpg', 'https://images.dog.ceo/breeds/african/n02116738_2514.jpg', 'https://images.dog.ceo/breeds/african/n02116738_2515.jpg', 'https://images.dog.ceo/breeds/african/n02116738_2557.jpg', 'https://images.dog.ceo/breeds/african/n02116738_2599.jpg', 'https://images.dog.ceo/breeds/african/n02116738_2600.jpg', 'https://images.dog.ceo/breeds/african/n02116738_2614.jpg', 'https://images.dog.ceo/breeds/african/n02116738_2675.jpg', 'https://images.dog.ceo/breeds/african/n02116738_2757.jpg', 'https://images.dog.ceo/breeds/african/n02116738_2770.jpg', 'https://images.dog.ceo/breeds/african/n02116738_2802.jpg', 'https://images.dog.ceo/breeds/african/n02116738_288.jpg', 'https://images.dog.ceo/breeds/african/n02116738_291.jpg', 'https://images.dog.ceo/breeds/african/n02116738_2942.jpg', 'https://images.dog.ceo/breeds/african/n02116738_2988.jpg', 'https://images.dog.ceo/breeds/african/n02116738_3024.jpg', 'https://images.dog.ceo/breeds/african/n02116738_308.jpg', 'https://images.dog.ceo/breeds/african/n02116738_3160.jpg', 'https://images.dog.ceo/breeds/african/n02116738_328.jpg', 'https://images.dog.ceo/breeds/african/n02116738_3365.jpg', 'https://images.dog.ceo/breeds/african/n02116738_3422.jpg', 'https://images.dog.ceo/breeds/african/n02116738_3589.jpg', 'https://images.dog.ceo/breeds/african/n02116738_3635.jpg', 'https://images.dog.ceo/breeds/african/n02116738_3692.jpg', 'https://images.dog.ceo/breeds/african/n02116738_3720.jpg', 'https://images.dog.ceo/breeds/african/n02116738_3819.jpg', 'https://images.dog.ceo/breeds/african/n02116738_385.jpg', 'https://images.dog.ceo/breeds/african/n02116738_4019.jpg', 'https://images.dog.ceo/breeds/african/n02116738_4098.jpg', 'https://images.dog.ceo/breeds/african/n02116738_4102.jpg', 'https://images.dog.ceo/breeds/african/n02116738_4115.jpg', 'https://images.dog.ceo/breeds/african/n02116738_4138.jpg', 'https://images.dog.ceo/breeds/african/n02116738_431.jpg', 'https://images.dog.ceo/breeds/african/n02116738_4323.jpg', 'https://images.dog.ceo/breeds/african/n02116738_4335.jpg', 'https://images.dog.ceo/breeds/african/n02116738_4367.jpg', 'https://images.dog.ceo/breeds/african/n02116738_4382.jpg', 'https://images.dog.ceo/breeds/african/n02116738_4461.jpg', 'https://images.dog.ceo/breeds/african/n02116738_4508.jpg', 'https://images.dog.ceo/breeds/african/n02116738_4641.jpg', 'https://images.dog.ceo/breeds/african/n02116738_4720.jpg', 'https://images.dog.ceo/breeds/african/n02116738_4732.jpg', 'https://images.dog.ceo/breeds/african/n02116738_4734.jpg', 'https://images.dog.ceo/breeds/african/n02116738_4742.jpg', 'https://images.dog.ceo/breeds/african/n02116738_4758.jpg', 'https://images.dog.ceo/breeds/african/n02116738_4796.jpg', 'https://images.dog.ceo/breeds/african/n02116738_4834.jpg', 'https://images.dog.ceo/breeds/african/n02116738_4991.jpg', 'https://images.dog.ceo/breeds/african/n02116738_500.jpg', 'https://images.dog.ceo/breeds/african/n02116738_5068.jpg', 'https://images.dog.ceo/breeds/african/n02116738_5241.jpg', 'https://images.dog.ceo/breeds/african/n02116738_5312.jpg', 'https://images.dog.ceo/breeds/african/n02116738_5338.jpg', 'https://images.dog.ceo/breeds/african/n02116738_5519.jpg', 'https://images.dog.ceo/breeds/african/n02116738_5635.jpg', 'https://images.dog.ceo/breeds/african/n02116738_5661.jpg', 'https://images.dog.ceo/breeds/african/n02116738_5683.jpg', 'https://images.dog.ceo/breeds/african/n02116738_5697.jpg', 'https://images.dog.ceo/breeds/african/n02116738_5932.jpg', 'https://images.dog.ceo/breeds/african/n02116738_5936.jpg', 'https://images.dog.ceo/breeds/african/n02116738_5953.jpg', 'https://images.dog.ceo/breeds/african/n02116738_5956.jpg', 'https://images.dog.ceo/breeds/african/n02116738_5993.jpg', 'https://images.dog.ceo/breeds/african/n02116738_6038.jpg', 'https://images.dog.ceo/breeds/african/n02116738_6044.jpg', 'https://images.dog.ceo/breeds/african/n02116738_607.jpg', 'https://images.dog.ceo/breeds/african/n02116738_6076.jpg', 'https://images.dog.ceo/breeds/african/n02116738_6092.jpg', 'https://images.dog.ceo/breeds/african/n02116738_6117.jpg', 'https://images.dog.ceo/breeds/african/n02116738_6283.jpg', 'https://images.dog.ceo/breeds/african/n02116738_6297.jpg', 'https://images.dog.ceo/breeds/african/n02116738_6330.jpg', 'https://images.dog.ceo/breeds/african/n02116738_634.jpg', 'https://images.dog.ceo/breeds/african/n02116738_6563.jpg', 'https://images.dog.ceo/breeds/african/n02116738_662.jpg', 'https://images.dog.ceo/breeds/african/n02116738_6746.jpg', 'https://images.dog.ceo/breeds/african/n02116738_6748.jpg', 'https://images.dog.ceo/breeds/african/n02116738_6754.jpg', 'https://images.dog.ceo/breeds/african/n02116738_678.jpg', 'https://images.dog.ceo/breeds/african/n02116738_6790.jpg', 'https://images.dog.ceo/breeds/african/n02116738_6813.jpg', 'https://images.dog.ceo/breeds/african/n02116738_684.jpg', 'https://images.dog.ceo/breeds/african/n02116738_7008.jpg', 'https://images.dog.ceo/breeds/african/n02116738_7026.jpg', 'https://images.dog.ceo/breeds/african/n02116738_7060.jpg', 'https://images.dog.ceo/breeds/african/n02116738_7105.jpg', 'https://images.dog.ceo/breeds/african/n02116738_7122.jpg', 'https://images.dog.ceo/breeds/african/n02116738_7170.jpg', 'https://images.dog.ceo/breeds/african/n02116738_7340.jpg', 'https://images.dog.ceo/breeds/african/n02116738_7506.jpg', 'https://images.dog.ceo/breeds/african/n02116738_7537.jpg', 'https://images.dog.ceo/breeds/african/n02116738_7578.jpg', 'https://images.dog.ceo/breeds/african/n02116738_7580.jpg', 'https://images.dog.ceo/breeds/african/n02116738_7590.jpg', 'https://images.dog.ceo/breeds/african/n02116738_7601.jpg', 'https://images.dog.ceo/breeds/african/n02116738_7657.jpg', 'https://images.dog.ceo/breeds/african/n02116738_7753.jpg', 'https://images.dog.ceo/breeds/african/n02116738_7988.jpg', 'https://images.dog.ceo/breeds/african/n02116738_8037.jpg', 'https://images.dog.ceo/breeds/african/n02116738_806.jpg', 'https://images.dog.ceo/breeds/african/n02116738_8095.jpg', 'https://images.dog.ceo/breeds/african/n02116738_8226.jpg', 'https://images.dog.ceo/breeds/african/n02116738_8341.jpg', 'https://images.dog.ceo/breeds/african/n02116738_8403.jpg', 'https://images.dog.ceo/breeds/african/n02116738_8489.jpg', 'https://images.dog.ceo/breeds/african/n02116738_849.jpg', 'https://images.dog.ceo/breeds/african/n02116738_8512.jpg', 'https://images.dog.ceo/breeds/african/n02116738_8579.jpg', 'https://images.dog.ceo/breeds/african/n02116738_8653.jpg', 'https://images.dog.ceo/breeds/african/n02116738_8662.jpg', 'https://images.dog.ceo/breeds/african/n02116738_8669.jpg', 'https://images.dog.ceo/breeds/african/n02116738_8696.jpg', 'https://images.dog.ceo/breeds/african/n02116738_8719.jpg', 'https://images.dog.ceo/breeds/african/n02116738_8734.jpg', 'https://images.dog.ceo/breeds/african/n02116738_8738.jpg', 'https://images.dog.ceo/breeds/african/n02116738_8749.jpg', 'https://images.dog.ceo/breeds/african/n02116738_8945.jpg', 'https://images.dog.ceo/breeds/african/n02116738_9164.jpg', 'https://images.dog.ceo/breeds/african/n02116738_9232.jpg', 'https://images.dog.ceo/breeds/african/n02116738_9282.jpg', 'https://images.dog.ceo/breeds/african/n02116738_9333.jpg', 'https://images.dog.ceo/breeds/african/n02116738_9603.jpg', 'https://images.dog.ceo/breeds/african/n02116738_9748.jpg', 'https://images.dog.ceo/breeds/african/n02116738_9762.jpg', 'https://images.dog.ceo/breeds/african/n02116738_9769.jpg', 'https://images.dog.ceo/breeds/african/n02116738_9798.jpg', 'https://images.dog.ceo/breeds/african/n02116738_9818.jpg', 'https://images.dog.ceo/breeds/african/n02116738_9829.jpg', 'https://images.dog.ceo/breeds/african/n02116738_9844.jpg', 'https://images.dog.ceo/breeds/african/n02116738_9924.jpg']\n",
      "https://dog.ceo/api/breed/airedale/images/random/10000000\n"
     ]
    },
    {
     "name": "stdout",
     "output_type": "stream",
     "text": [
      "['https://images.dog.ceo/breeds/airedale/n02096051_1017.jpg', 'https://images.dog.ceo/breeds/airedale/n02096051_1110.jpg', 'https://images.dog.ceo/breeds/airedale/n02096051_1111.jpg', 'https://images.dog.ceo/breeds/airedale/n02096051_1121.jpg', 'https://images.dog.ceo/breeds/airedale/n02096051_1134.jpg', 'https://images.dog.ceo/breeds/airedale/n02096051_119.jpg', 'https://images.dog.ceo/breeds/airedale/n02096051_1206.jpg', 'https://images.dog.ceo/breeds/airedale/n02096051_1235.jpg', 'https://images.dog.ceo/breeds/airedale/n02096051_1244.jpg', 'https://images.dog.ceo/breeds/airedale/n02096051_1277.jpg', 'https://images.dog.ceo/breeds/airedale/n02096051_129.jpg', 'https://images.dog.ceo/breeds/airedale/n02096051_138.jpg', 'https://images.dog.ceo/breeds/airedale/n02096051_1430.jpg', 'https://images.dog.ceo/breeds/airedale/n02096051_1469.jpg', 'https://images.dog.ceo/breeds/airedale/n02096051_1483.jpg', 'https://images.dog.ceo/breeds/airedale/n02096051_1558.jpg', 'https://images.dog.ceo/breeds/airedale/n02096051_161.jpg', 'https://images.dog.ceo/breeds/airedale/n02096051_1625.jpg', 'https://images.dog.ceo/breeds/airedale/n02096051_1669.jpg', 'https://images.dog.ceo/breeds/airedale/n02096051_171.jpg', 'https://images.dog.ceo/breeds/airedale/n02096051_1723.jpg', 'https://images.dog.ceo/breeds/airedale/n02096051_1736.jpg', 'https://images.dog.ceo/breeds/airedale/n02096051_1740.jpg', 'https://images.dog.ceo/breeds/airedale/n02096051_1761.jpg', 'https://images.dog.ceo/breeds/airedale/n02096051_1799.jpg', 'https://images.dog.ceo/breeds/airedale/n02096051_183.jpg', 'https://images.dog.ceo/breeds/airedale/n02096051_1854.jpg', 'https://images.dog.ceo/breeds/airedale/n02096051_1861.jpg', 'https://images.dog.ceo/breeds/airedale/n02096051_1912.jpg', 'https://images.dog.ceo/breeds/airedale/n02096051_1941.jpg', 'https://images.dog.ceo/breeds/airedale/n02096051_2002.jpg', 'https://images.dog.ceo/breeds/airedale/n02096051_2045.jpg', 'https://images.dog.ceo/breeds/airedale/n02096051_2170.jpg', 'https://images.dog.ceo/breeds/airedale/n02096051_2204.jpg', 'https://images.dog.ceo/breeds/airedale/n02096051_225.jpg', 'https://images.dog.ceo/breeds/airedale/n02096051_2256.jpg', 'https://images.dog.ceo/breeds/airedale/n02096051_2265.jpg', 'https://images.dog.ceo/breeds/airedale/n02096051_2314.jpg', 'https://images.dog.ceo/breeds/airedale/n02096051_2333.jpg', 'https://images.dog.ceo/breeds/airedale/n02096051_2353.jpg', 'https://images.dog.ceo/breeds/airedale/n02096051_2380.jpg', 'https://images.dog.ceo/breeds/airedale/n02096051_2432.jpg', 'https://images.dog.ceo/breeds/airedale/n02096051_2473.jpg', 'https://images.dog.ceo/breeds/airedale/n02096051_249.jpg', 'https://images.dog.ceo/breeds/airedale/n02096051_2517.jpg', 'https://images.dog.ceo/breeds/airedale/n02096051_2550.jpg', 'https://images.dog.ceo/breeds/airedale/n02096051_2556.jpg', 'https://images.dog.ceo/breeds/airedale/n02096051_2583.jpg', 'https://images.dog.ceo/breeds/airedale/n02096051_2633.jpg', 'https://images.dog.ceo/breeds/airedale/n02096051_2717.jpg', 'https://images.dog.ceo/breeds/airedale/n02096051_2774.jpg', 'https://images.dog.ceo/breeds/airedale/n02096051_2883.jpg', 'https://images.dog.ceo/breeds/airedale/n02096051_2890.jpg', 'https://images.dog.ceo/breeds/airedale/n02096051_2903.jpg', 'https://images.dog.ceo/breeds/airedale/n02096051_2939.jpg', 'https://images.dog.ceo/breeds/airedale/n02096051_2946.jpg', 'https://images.dog.ceo/breeds/airedale/n02096051_2954.jpg', 'https://images.dog.ceo/breeds/airedale/n02096051_3030.jpg', 'https://images.dog.ceo/breeds/airedale/n02096051_3045.jpg', 'https://images.dog.ceo/breeds/airedale/n02096051_3051.jpg', 'https://images.dog.ceo/breeds/airedale/n02096051_3069.jpg', 'https://images.dog.ceo/breeds/airedale/n02096051_3088.jpg', 'https://images.dog.ceo/breeds/airedale/n02096051_3105.jpg', 'https://images.dog.ceo/breeds/airedale/n02096051_319.jpg', 'https://images.dog.ceo/breeds/airedale/n02096051_3194.jpg', 'https://images.dog.ceo/breeds/airedale/n02096051_3253.jpg', 'https://images.dog.ceo/breeds/airedale/n02096051_3287.jpg', 'https://images.dog.ceo/breeds/airedale/n02096051_3317.jpg', 'https://images.dog.ceo/breeds/airedale/n02096051_3338.jpg', 'https://images.dog.ceo/breeds/airedale/n02096051_3443.jpg', 'https://images.dog.ceo/breeds/airedale/n02096051_3472.jpg', 'https://images.dog.ceo/breeds/airedale/n02096051_3500.jpg', 'https://images.dog.ceo/breeds/airedale/n02096051_3523.jpg', 'https://images.dog.ceo/breeds/airedale/n02096051_3538.jpg', 'https://images.dog.ceo/breeds/airedale/n02096051_3619.jpg', 'https://images.dog.ceo/breeds/airedale/n02096051_3660.jpg', 'https://images.dog.ceo/breeds/airedale/n02096051_3665.jpg', 'https://images.dog.ceo/breeds/airedale/n02096051_3700.jpg', 'https://images.dog.ceo/breeds/airedale/n02096051_3750.jpg', 'https://images.dog.ceo/breeds/airedale/n02096051_3796.jpg', 'https://images.dog.ceo/breeds/airedale/n02096051_3823.jpg', 'https://images.dog.ceo/breeds/airedale/n02096051_3863.jpg', 'https://images.dog.ceo/breeds/airedale/n02096051_3879.jpg', 'https://images.dog.ceo/breeds/airedale/n02096051_3955.jpg', 'https://images.dog.ceo/breeds/airedale/n02096051_3981.jpg', 'https://images.dog.ceo/breeds/airedale/n02096051_4153.jpg', 'https://images.dog.ceo/breeds/airedale/n02096051_4196.jpg', 'https://images.dog.ceo/breeds/airedale/n02096051_4220.jpg', 'https://images.dog.ceo/breeds/airedale/n02096051_424.jpg', 'https://images.dog.ceo/breeds/airedale/n02096051_4322.jpg', 'https://images.dog.ceo/breeds/airedale/n02096051_441.jpg', 'https://images.dog.ceo/breeds/airedale/n02096051_4514.jpg', 'https://images.dog.ceo/breeds/airedale/n02096051_4516.jpg', 'https://images.dog.ceo/breeds/airedale/n02096051_4531.jpg', 'https://images.dog.ceo/breeds/airedale/n02096051_4660.jpg', 'https://images.dog.ceo/breeds/airedale/n02096051_4676.jpg', 'https://images.dog.ceo/breeds/airedale/n02096051_4860.jpg', 'https://images.dog.ceo/breeds/airedale/n02096051_4868.jpg', 'https://images.dog.ceo/breeds/airedale/n02096051_4902.jpg', 'https://images.dog.ceo/breeds/airedale/n02096051_4991.jpg', 'https://images.dog.ceo/breeds/airedale/n02096051_5018.jpg', 'https://images.dog.ceo/breeds/airedale/n02096051_5048.jpg', 'https://images.dog.ceo/breeds/airedale/n02096051_5060.jpg', 'https://images.dog.ceo/breeds/airedale/n02096051_5064.jpg', 'https://images.dog.ceo/breeds/airedale/n02096051_5067.jpg', 'https://images.dog.ceo/breeds/airedale/n02096051_517.jpg', 'https://images.dog.ceo/breeds/airedale/n02096051_5212.jpg', 'https://images.dog.ceo/breeds/airedale/n02096051_5234.jpg', 'https://images.dog.ceo/breeds/airedale/n02096051_5241.jpg', 'https://images.dog.ceo/breeds/airedale/n02096051_5267.jpg', 'https://images.dog.ceo/breeds/airedale/n02096051_5285.jpg', 'https://images.dog.ceo/breeds/airedale/n02096051_5356.jpg', 'https://images.dog.ceo/breeds/airedale/n02096051_5389.jpg', 'https://images.dog.ceo/breeds/airedale/n02096051_5432.jpg', 'https://images.dog.ceo/breeds/airedale/n02096051_5467.jpg', 'https://images.dog.ceo/breeds/airedale/n02096051_5712.jpg', 'https://images.dog.ceo/breeds/airedale/n02096051_5776.jpg', 'https://images.dog.ceo/breeds/airedale/n02096051_584.jpg', 'https://images.dog.ceo/breeds/airedale/n02096051_5867.jpg', 'https://images.dog.ceo/breeds/airedale/n02096051_5884.jpg', 'https://images.dog.ceo/breeds/airedale/n02096051_5945.jpg', 'https://images.dog.ceo/breeds/airedale/n02096051_5952.jpg', 'https://images.dog.ceo/breeds/airedale/n02096051_5992.jpg', 'https://images.dog.ceo/breeds/airedale/n02096051_6151.jpg', 'https://images.dog.ceo/breeds/airedale/n02096051_6300.jpg', 'https://images.dog.ceo/breeds/airedale/n02096051_6315.jpg', 'https://images.dog.ceo/breeds/airedale/n02096051_6332.jpg', 'https://images.dog.ceo/breeds/airedale/n02096051_6334.jpg', 'https://images.dog.ceo/breeds/airedale/n02096051_6335.jpg', 'https://images.dog.ceo/breeds/airedale/n02096051_6410.jpg', 'https://images.dog.ceo/breeds/airedale/n02096051_6473.jpg', 'https://images.dog.ceo/breeds/airedale/n02096051_6502.jpg', 'https://images.dog.ceo/breeds/airedale/n02096051_6536.jpg', 'https://images.dog.ceo/breeds/airedale/n02096051_6570.jpg', 'https://images.dog.ceo/breeds/airedale/n02096051_6657.jpg', 'https://images.dog.ceo/breeds/airedale/n02096051_668.jpg', 'https://images.dog.ceo/breeds/airedale/n02096051_6693.jpg', 'https://images.dog.ceo/breeds/airedale/n02096051_6733.jpg', 'https://images.dog.ceo/breeds/airedale/n02096051_6747.jpg', 'https://images.dog.ceo/breeds/airedale/n02096051_6755.jpg', 'https://images.dog.ceo/breeds/airedale/n02096051_6799.jpg', 'https://images.dog.ceo/breeds/airedale/n02096051_6812.jpg', 'https://images.dog.ceo/breeds/airedale/n02096051_6855.jpg', 'https://images.dog.ceo/breeds/airedale/n02096051_6873.jpg', 'https://images.dog.ceo/breeds/airedale/n02096051_6895.jpg', 'https://images.dog.ceo/breeds/airedale/n02096051_6932.jpg', 'https://images.dog.ceo/breeds/airedale/n02096051_6933.jpg', 'https://images.dog.ceo/breeds/airedale/n02096051_6972.jpg', 'https://images.dog.ceo/breeds/airedale/n02096051_7.jpg', 'https://images.dog.ceo/breeds/airedale/n02096051_7077.jpg', 'https://images.dog.ceo/breeds/airedale/n02096051_7118.jpg', 'https://images.dog.ceo/breeds/airedale/n02096051_7132.jpg', 'https://images.dog.ceo/breeds/airedale/n02096051_7140.jpg', 'https://images.dog.ceo/breeds/airedale/n02096051_738.jpg', 'https://images.dog.ceo/breeds/airedale/n02096051_7394.jpg', 'https://images.dog.ceo/breeds/airedale/n02096051_7463.jpg', 'https://images.dog.ceo/breeds/airedale/n02096051_7516.jpg', 'https://images.dog.ceo/breeds/airedale/n02096051_7580.jpg', 'https://images.dog.ceo/breeds/airedale/n02096051_7602.jpg', 'https://images.dog.ceo/breeds/airedale/n02096051_7647.jpg', 'https://images.dog.ceo/breeds/airedale/n02096051_7677.jpg', 'https://images.dog.ceo/breeds/airedale/n02096051_7762.jpg', 'https://images.dog.ceo/breeds/airedale/n02096051_7772.jpg', 'https://images.dog.ceo/breeds/airedale/n02096051_7790.jpg', 'https://images.dog.ceo/breeds/airedale/n02096051_7847.jpg', 'https://images.dog.ceo/breeds/airedale/n02096051_8019.jpg', 'https://images.dog.ceo/breeds/airedale/n02096051_8096.jpg', 'https://images.dog.ceo/breeds/airedale/n02096051_8103.jpg', 'https://images.dog.ceo/breeds/airedale/n02096051_812.jpg', 'https://images.dog.ceo/breeds/airedale/n02096051_8132.jpg', 'https://images.dog.ceo/breeds/airedale/n02096051_8149.jpg', 'https://images.dog.ceo/breeds/airedale/n02096051_8227.jpg', 'https://images.dog.ceo/breeds/airedale/n02096051_8270.jpg', 'https://images.dog.ceo/breeds/airedale/n02096051_8385.jpg', 'https://images.dog.ceo/breeds/airedale/n02096051_8392.jpg', 'https://images.dog.ceo/breeds/airedale/n02096051_841.jpg', 'https://images.dog.ceo/breeds/airedale/n02096051_8431.jpg', 'https://images.dog.ceo/breeds/airedale/n02096051_8553.jpg', 'https://images.dog.ceo/breeds/airedale/n02096051_8613.jpg', 'https://images.dog.ceo/breeds/airedale/n02096051_8790.jpg', 'https://images.dog.ceo/breeds/airedale/n02096051_8826.jpg', 'https://images.dog.ceo/breeds/airedale/n02096051_8880.jpg', 'https://images.dog.ceo/breeds/airedale/n02096051_8892.jpg', 'https://images.dog.ceo/breeds/airedale/n02096051_8937.jpg', 'https://images.dog.ceo/breeds/airedale/n02096051_8989.jpg', 'https://images.dog.ceo/breeds/airedale/n02096051_9038.jpg', 'https://images.dog.ceo/breeds/airedale/n02096051_910.jpg', 'https://images.dog.ceo/breeds/airedale/n02096051_9135.jpg', 'https://images.dog.ceo/breeds/airedale/n02096051_93.jpg', 'https://images.dog.ceo/breeds/airedale/n02096051_9319.jpg', 'https://images.dog.ceo/breeds/airedale/n02096051_9327.jpg', 'https://images.dog.ceo/breeds/airedale/n02096051_9329.jpg', 'https://images.dog.ceo/breeds/airedale/n02096051_9359.jpg', 'https://images.dog.ceo/breeds/airedale/n02096051_9388.jpg', 'https://images.dog.ceo/breeds/airedale/n02096051_9391.jpg', 'https://images.dog.ceo/breeds/airedale/n02096051_9427.jpg', 'https://images.dog.ceo/breeds/airedale/n02096051_9440.jpg', 'https://images.dog.ceo/breeds/airedale/n02096051_950.jpg', 'https://images.dog.ceo/breeds/airedale/n02096051_9581.jpg', 'https://images.dog.ceo/breeds/airedale/n02096051_9617.jpg', 'https://images.dog.ceo/breeds/airedale/n02096051_9631.jpg', 'https://images.dog.ceo/breeds/airedale/n02096051_982.jpg']\n",
      "https://dog.ceo/api/breed/akita/images/random/10000000\n"
     ]
    },
    {
     "name": "stdout",
     "output_type": "stream",
     "text": [
      "['https://images.dog.ceo/breeds/akita/512px-Ainu-Dog.jpg', 'https://images.dog.ceo/breeds/akita/512px-Akita_inu.jpeg', 'https://images.dog.ceo/breeds/akita/Akina_Inu_in_Riga_1.JPG', 'https://images.dog.ceo/breeds/akita/Akita_Dog.jpg', 'https://images.dog.ceo/breeds/akita/Akita_Inu_dog.jpg', 'https://images.dog.ceo/breeds/akita/Akita_hiking_in_Shpella_e_Pëllumbasit.JPG', 'https://images.dog.ceo/breeds/akita/Akita_inu_blanc.jpg', 'https://images.dog.ceo/breeds/akita/An_Akita_Inu_resting.jpg', 'https://images.dog.ceo/breeds/akita/Japaneseakita.jpg']\n",
      "https://dog.ceo/api/breed/appenzeller/images/random/10000000\n"
     ]
    },
    {
     "ename": "KeyboardInterrupt",
     "evalue": "",
     "output_type": "error",
     "traceback": [
      "\u001b[0;31m---------------------------------------------------------------------------\u001b[0m",
      "\u001b[0;31mTypeError\u001b[0m                                 Traceback (most recent call last)",
      "\u001b[0;32m~/anaconda3/envs/dog/lib/python3.6/site-packages/urllib3/connectionpool.py\u001b[0m in \u001b[0;36m_make_request\u001b[0;34m(self, conn, method, url, timeout, chunked, **httplib_request_kw)\u001b[0m\n\u001b[1;32m    379\u001b[0m             \u001b[0;32mtry\u001b[0m\u001b[0;34m:\u001b[0m  \u001b[0;31m# Python 2.7, use buffering of HTTP responses\u001b[0m\u001b[0;34m\u001b[0m\u001b[0;34m\u001b[0m\u001b[0m\n\u001b[0;32m--> 380\u001b[0;31m                 \u001b[0mhttplib_response\u001b[0m \u001b[0;34m=\u001b[0m \u001b[0mconn\u001b[0m\u001b[0;34m.\u001b[0m\u001b[0mgetresponse\u001b[0m\u001b[0;34m(\u001b[0m\u001b[0mbuffering\u001b[0m\u001b[0;34m=\u001b[0m\u001b[0;32mTrue\u001b[0m\u001b[0;34m)\u001b[0m\u001b[0;34m\u001b[0m\u001b[0;34m\u001b[0m\u001b[0m\n\u001b[0m\u001b[1;32m    381\u001b[0m             \u001b[0;32mexcept\u001b[0m \u001b[0mTypeError\u001b[0m\u001b[0;34m:\u001b[0m  \u001b[0;31m# Python 2.6 and older, Python 3\u001b[0m\u001b[0;34m\u001b[0m\u001b[0;34m\u001b[0m\u001b[0m\n",
      "\u001b[0;31mTypeError\u001b[0m: getresponse() got an unexpected keyword argument 'buffering'",
      "\nDuring handling of the above exception, another exception occurred:\n",
      "\u001b[0;31mKeyboardInterrupt\u001b[0m                         Traceback (most recent call last)",
      "\u001b[0;32m<ipython-input-30-e18b6133ae10>\u001b[0m in \u001b[0;36m<module>\u001b[0;34m\u001b[0m\n\u001b[1;32m      2\u001b[0m     \u001b[0murl\u001b[0m \u001b[0;34m=\u001b[0m \u001b[0;34m'https://dog.ceo/api/breed/{}/images/random/10000000'\u001b[0m\u001b[0;34m.\u001b[0m\u001b[0mformat\u001b[0m\u001b[0;34m(\u001b[0m\u001b[0mbreed\u001b[0m\u001b[0;34m)\u001b[0m\u001b[0;34m\u001b[0m\u001b[0;34m\u001b[0m\u001b[0m\n\u001b[1;32m      3\u001b[0m     \u001b[0mprint\u001b[0m\u001b[0;34m(\u001b[0m\u001b[0murl\u001b[0m\u001b[0;34m)\u001b[0m\u001b[0;34m\u001b[0m\u001b[0;34m\u001b[0m\u001b[0m\n\u001b[0;32m----> 4\u001b[0;31m     \u001b[0mdog_list\u001b[0m \u001b[0;34m=\u001b[0m \u001b[0mrequests\u001b[0m\u001b[0;34m.\u001b[0m\u001b[0mget\u001b[0m\u001b[0;34m(\u001b[0m\u001b[0murl\u001b[0m\u001b[0;34m)\u001b[0m\u001b[0;34m.\u001b[0m\u001b[0mjson\u001b[0m\u001b[0;34m(\u001b[0m\u001b[0;34m)\u001b[0m\u001b[0;34m[\u001b[0m\u001b[0;34m'message'\u001b[0m\u001b[0;34m]\u001b[0m\u001b[0;34m\u001b[0m\u001b[0;34m\u001b[0m\u001b[0m\n\u001b[0m\u001b[1;32m      5\u001b[0m     \u001b[0mprint\u001b[0m\u001b[0;34m(\u001b[0m\u001b[0mdog_list\u001b[0m\u001b[0;34m)\u001b[0m\u001b[0;34m\u001b[0m\u001b[0;34m\u001b[0m\u001b[0m\n\u001b[1;32m      6\u001b[0m \u001b[0;34m\u001b[0m\u001b[0m\n",
      "\u001b[0;32m~/anaconda3/envs/dog/lib/python3.6/site-packages/requests/api.py\u001b[0m in \u001b[0;36mget\u001b[0;34m(url, params, **kwargs)\u001b[0m\n\u001b[1;32m     70\u001b[0m \u001b[0;34m\u001b[0m\u001b[0m\n\u001b[1;32m     71\u001b[0m     \u001b[0mkwargs\u001b[0m\u001b[0;34m.\u001b[0m\u001b[0msetdefault\u001b[0m\u001b[0;34m(\u001b[0m\u001b[0;34m'allow_redirects'\u001b[0m\u001b[0;34m,\u001b[0m \u001b[0;32mTrue\u001b[0m\u001b[0;34m)\u001b[0m\u001b[0;34m\u001b[0m\u001b[0;34m\u001b[0m\u001b[0m\n\u001b[0;32m---> 72\u001b[0;31m     \u001b[0;32mreturn\u001b[0m \u001b[0mrequest\u001b[0m\u001b[0;34m(\u001b[0m\u001b[0;34m'get'\u001b[0m\u001b[0;34m,\u001b[0m \u001b[0murl\u001b[0m\u001b[0;34m,\u001b[0m \u001b[0mparams\u001b[0m\u001b[0;34m=\u001b[0m\u001b[0mparams\u001b[0m\u001b[0;34m,\u001b[0m \u001b[0;34m**\u001b[0m\u001b[0mkwargs\u001b[0m\u001b[0;34m)\u001b[0m\u001b[0;34m\u001b[0m\u001b[0;34m\u001b[0m\u001b[0m\n\u001b[0m\u001b[1;32m     73\u001b[0m \u001b[0;34m\u001b[0m\u001b[0m\n\u001b[1;32m     74\u001b[0m \u001b[0;34m\u001b[0m\u001b[0m\n",
      "\u001b[0;32m~/anaconda3/envs/dog/lib/python3.6/site-packages/requests/api.py\u001b[0m in \u001b[0;36mrequest\u001b[0;34m(method, url, **kwargs)\u001b[0m\n\u001b[1;32m     56\u001b[0m     \u001b[0;31m# cases, and look like a memory leak in others.\u001b[0m\u001b[0;34m\u001b[0m\u001b[0;34m\u001b[0m\u001b[0;34m\u001b[0m\u001b[0m\n\u001b[1;32m     57\u001b[0m     \u001b[0;32mwith\u001b[0m \u001b[0msessions\u001b[0m\u001b[0;34m.\u001b[0m\u001b[0mSession\u001b[0m\u001b[0;34m(\u001b[0m\u001b[0;34m)\u001b[0m \u001b[0;32mas\u001b[0m \u001b[0msession\u001b[0m\u001b[0;34m:\u001b[0m\u001b[0;34m\u001b[0m\u001b[0;34m\u001b[0m\u001b[0m\n\u001b[0;32m---> 58\u001b[0;31m         \u001b[0;32mreturn\u001b[0m \u001b[0msession\u001b[0m\u001b[0;34m.\u001b[0m\u001b[0mrequest\u001b[0m\u001b[0;34m(\u001b[0m\u001b[0mmethod\u001b[0m\u001b[0;34m=\u001b[0m\u001b[0mmethod\u001b[0m\u001b[0;34m,\u001b[0m \u001b[0murl\u001b[0m\u001b[0;34m=\u001b[0m\u001b[0murl\u001b[0m\u001b[0;34m,\u001b[0m \u001b[0;34m**\u001b[0m\u001b[0mkwargs\u001b[0m\u001b[0;34m)\u001b[0m\u001b[0;34m\u001b[0m\u001b[0;34m\u001b[0m\u001b[0m\n\u001b[0m\u001b[1;32m     59\u001b[0m \u001b[0;34m\u001b[0m\u001b[0m\n\u001b[1;32m     60\u001b[0m \u001b[0;34m\u001b[0m\u001b[0m\n",
      "\u001b[0;32m~/anaconda3/envs/dog/lib/python3.6/site-packages/requests/sessions.py\u001b[0m in \u001b[0;36mrequest\u001b[0;34m(self, method, url, params, data, headers, cookies, files, auth, timeout, allow_redirects, proxies, hooks, stream, verify, cert, json)\u001b[0m\n\u001b[1;32m    506\u001b[0m         }\n\u001b[1;32m    507\u001b[0m         \u001b[0msend_kwargs\u001b[0m\u001b[0;34m.\u001b[0m\u001b[0mupdate\u001b[0m\u001b[0;34m(\u001b[0m\u001b[0msettings\u001b[0m\u001b[0;34m)\u001b[0m\u001b[0;34m\u001b[0m\u001b[0;34m\u001b[0m\u001b[0m\n\u001b[0;32m--> 508\u001b[0;31m         \u001b[0mresp\u001b[0m \u001b[0;34m=\u001b[0m \u001b[0mself\u001b[0m\u001b[0;34m.\u001b[0m\u001b[0msend\u001b[0m\u001b[0;34m(\u001b[0m\u001b[0mprep\u001b[0m\u001b[0;34m,\u001b[0m \u001b[0;34m**\u001b[0m\u001b[0msend_kwargs\u001b[0m\u001b[0;34m)\u001b[0m\u001b[0;34m\u001b[0m\u001b[0;34m\u001b[0m\u001b[0m\n\u001b[0m\u001b[1;32m    509\u001b[0m \u001b[0;34m\u001b[0m\u001b[0m\n\u001b[1;32m    510\u001b[0m         \u001b[0;32mreturn\u001b[0m \u001b[0mresp\u001b[0m\u001b[0;34m\u001b[0m\u001b[0;34m\u001b[0m\u001b[0m\n",
      "\u001b[0;32m~/anaconda3/envs/dog/lib/python3.6/site-packages/requests/sessions.py\u001b[0m in \u001b[0;36msend\u001b[0;34m(self, request, **kwargs)\u001b[0m\n\u001b[1;32m    616\u001b[0m \u001b[0;34m\u001b[0m\u001b[0m\n\u001b[1;32m    617\u001b[0m         \u001b[0;31m# Send the request\u001b[0m\u001b[0;34m\u001b[0m\u001b[0;34m\u001b[0m\u001b[0;34m\u001b[0m\u001b[0m\n\u001b[0;32m--> 618\u001b[0;31m         \u001b[0mr\u001b[0m \u001b[0;34m=\u001b[0m \u001b[0madapter\u001b[0m\u001b[0;34m.\u001b[0m\u001b[0msend\u001b[0m\u001b[0;34m(\u001b[0m\u001b[0mrequest\u001b[0m\u001b[0;34m,\u001b[0m \u001b[0;34m**\u001b[0m\u001b[0mkwargs\u001b[0m\u001b[0;34m)\u001b[0m\u001b[0;34m\u001b[0m\u001b[0;34m\u001b[0m\u001b[0m\n\u001b[0m\u001b[1;32m    619\u001b[0m \u001b[0;34m\u001b[0m\u001b[0m\n\u001b[1;32m    620\u001b[0m         \u001b[0;31m# Total elapsed time of the request (approximately)\u001b[0m\u001b[0;34m\u001b[0m\u001b[0;34m\u001b[0m\u001b[0;34m\u001b[0m\u001b[0m\n",
      "\u001b[0;32m~/anaconda3/envs/dog/lib/python3.6/site-packages/requests/adapters.py\u001b[0m in \u001b[0;36msend\u001b[0;34m(self, request, stream, timeout, verify, cert, proxies)\u001b[0m\n\u001b[1;32m    438\u001b[0m                     \u001b[0mdecode_content\u001b[0m\u001b[0;34m=\u001b[0m\u001b[0;32mFalse\u001b[0m\u001b[0;34m,\u001b[0m\u001b[0;34m\u001b[0m\u001b[0;34m\u001b[0m\u001b[0m\n\u001b[1;32m    439\u001b[0m                     \u001b[0mretries\u001b[0m\u001b[0;34m=\u001b[0m\u001b[0mself\u001b[0m\u001b[0;34m.\u001b[0m\u001b[0mmax_retries\u001b[0m\u001b[0;34m,\u001b[0m\u001b[0;34m\u001b[0m\u001b[0;34m\u001b[0m\u001b[0m\n\u001b[0;32m--> 440\u001b[0;31m                     \u001b[0mtimeout\u001b[0m\u001b[0;34m=\u001b[0m\u001b[0mtimeout\u001b[0m\u001b[0;34m\u001b[0m\u001b[0;34m\u001b[0m\u001b[0m\n\u001b[0m\u001b[1;32m    441\u001b[0m                 )\n\u001b[1;32m    442\u001b[0m \u001b[0;34m\u001b[0m\u001b[0m\n",
      "\u001b[0;32m~/anaconda3/envs/dog/lib/python3.6/site-packages/urllib3/connectionpool.py\u001b[0m in \u001b[0;36murlopen\u001b[0;34m(self, method, url, body, headers, retries, redirect, assert_same_host, timeout, pool_timeout, release_conn, chunked, body_pos, **response_kw)\u001b[0m\n\u001b[1;32m    599\u001b[0m                                                   \u001b[0mtimeout\u001b[0m\u001b[0;34m=\u001b[0m\u001b[0mtimeout_obj\u001b[0m\u001b[0;34m,\u001b[0m\u001b[0;34m\u001b[0m\u001b[0;34m\u001b[0m\u001b[0m\n\u001b[1;32m    600\u001b[0m                                                   \u001b[0mbody\u001b[0m\u001b[0;34m=\u001b[0m\u001b[0mbody\u001b[0m\u001b[0;34m,\u001b[0m \u001b[0mheaders\u001b[0m\u001b[0;34m=\u001b[0m\u001b[0mheaders\u001b[0m\u001b[0;34m,\u001b[0m\u001b[0;34m\u001b[0m\u001b[0;34m\u001b[0m\u001b[0m\n\u001b[0;32m--> 601\u001b[0;31m                                                   chunked=chunked)\n\u001b[0m\u001b[1;32m    602\u001b[0m \u001b[0;34m\u001b[0m\u001b[0m\n\u001b[1;32m    603\u001b[0m             \u001b[0;31m# If we're going to release the connection in ``finally:``, then\u001b[0m\u001b[0;34m\u001b[0m\u001b[0;34m\u001b[0m\u001b[0;34m\u001b[0m\u001b[0m\n",
      "\u001b[0;32m~/anaconda3/envs/dog/lib/python3.6/site-packages/urllib3/connectionpool.py\u001b[0m in \u001b[0;36m_make_request\u001b[0;34m(self, conn, method, url, timeout, chunked, **httplib_request_kw)\u001b[0m\n\u001b[1;32m    381\u001b[0m             \u001b[0;32mexcept\u001b[0m \u001b[0mTypeError\u001b[0m\u001b[0;34m:\u001b[0m  \u001b[0;31m# Python 2.6 and older, Python 3\u001b[0m\u001b[0;34m\u001b[0m\u001b[0;34m\u001b[0m\u001b[0m\n\u001b[1;32m    382\u001b[0m                 \u001b[0;32mtry\u001b[0m\u001b[0;34m:\u001b[0m\u001b[0;34m\u001b[0m\u001b[0;34m\u001b[0m\u001b[0m\n\u001b[0;32m--> 383\u001b[0;31m                     \u001b[0mhttplib_response\u001b[0m \u001b[0;34m=\u001b[0m \u001b[0mconn\u001b[0m\u001b[0;34m.\u001b[0m\u001b[0mgetresponse\u001b[0m\u001b[0;34m(\u001b[0m\u001b[0;34m)\u001b[0m\u001b[0;34m\u001b[0m\u001b[0;34m\u001b[0m\u001b[0m\n\u001b[0m\u001b[1;32m    384\u001b[0m                 \u001b[0;32mexcept\u001b[0m \u001b[0mException\u001b[0m \u001b[0;32mas\u001b[0m \u001b[0me\u001b[0m\u001b[0;34m:\u001b[0m\u001b[0;34m\u001b[0m\u001b[0;34m\u001b[0m\u001b[0m\n\u001b[1;32m    385\u001b[0m                     \u001b[0;31m# Remove the TypeError from the exception chain in Python 3;\u001b[0m\u001b[0;34m\u001b[0m\u001b[0;34m\u001b[0m\u001b[0;34m\u001b[0m\u001b[0m\n",
      "\u001b[0;32m~/anaconda3/envs/dog/lib/python3.6/http/client.py\u001b[0m in \u001b[0;36mgetresponse\u001b[0;34m(self)\u001b[0m\n\u001b[1;32m   1329\u001b[0m         \u001b[0;32mtry\u001b[0m\u001b[0;34m:\u001b[0m\u001b[0;34m\u001b[0m\u001b[0;34m\u001b[0m\u001b[0m\n\u001b[1;32m   1330\u001b[0m             \u001b[0;32mtry\u001b[0m\u001b[0;34m:\u001b[0m\u001b[0;34m\u001b[0m\u001b[0;34m\u001b[0m\u001b[0m\n\u001b[0;32m-> 1331\u001b[0;31m                 \u001b[0mresponse\u001b[0m\u001b[0;34m.\u001b[0m\u001b[0mbegin\u001b[0m\u001b[0;34m(\u001b[0m\u001b[0;34m)\u001b[0m\u001b[0;34m\u001b[0m\u001b[0;34m\u001b[0m\u001b[0m\n\u001b[0m\u001b[1;32m   1332\u001b[0m             \u001b[0;32mexcept\u001b[0m \u001b[0mConnectionError\u001b[0m\u001b[0;34m:\u001b[0m\u001b[0;34m\u001b[0m\u001b[0;34m\u001b[0m\u001b[0m\n\u001b[1;32m   1333\u001b[0m                 \u001b[0mself\u001b[0m\u001b[0;34m.\u001b[0m\u001b[0mclose\u001b[0m\u001b[0;34m(\u001b[0m\u001b[0;34m)\u001b[0m\u001b[0;34m\u001b[0m\u001b[0;34m\u001b[0m\u001b[0m\n",
      "\u001b[0;32m~/anaconda3/envs/dog/lib/python3.6/http/client.py\u001b[0m in \u001b[0;36mbegin\u001b[0;34m(self)\u001b[0m\n\u001b[1;32m    295\u001b[0m         \u001b[0;31m# read until we get a non-100 response\u001b[0m\u001b[0;34m\u001b[0m\u001b[0;34m\u001b[0m\u001b[0;34m\u001b[0m\u001b[0m\n\u001b[1;32m    296\u001b[0m         \u001b[0;32mwhile\u001b[0m \u001b[0;32mTrue\u001b[0m\u001b[0;34m:\u001b[0m\u001b[0;34m\u001b[0m\u001b[0;34m\u001b[0m\u001b[0m\n\u001b[0;32m--> 297\u001b[0;31m             \u001b[0mversion\u001b[0m\u001b[0;34m,\u001b[0m \u001b[0mstatus\u001b[0m\u001b[0;34m,\u001b[0m \u001b[0mreason\u001b[0m \u001b[0;34m=\u001b[0m \u001b[0mself\u001b[0m\u001b[0;34m.\u001b[0m\u001b[0m_read_status\u001b[0m\u001b[0;34m(\u001b[0m\u001b[0;34m)\u001b[0m\u001b[0;34m\u001b[0m\u001b[0;34m\u001b[0m\u001b[0m\n\u001b[0m\u001b[1;32m    298\u001b[0m             \u001b[0;32mif\u001b[0m \u001b[0mstatus\u001b[0m \u001b[0;34m!=\u001b[0m \u001b[0mCONTINUE\u001b[0m\u001b[0;34m:\u001b[0m\u001b[0;34m\u001b[0m\u001b[0;34m\u001b[0m\u001b[0m\n\u001b[1;32m    299\u001b[0m                 \u001b[0;32mbreak\u001b[0m\u001b[0;34m\u001b[0m\u001b[0;34m\u001b[0m\u001b[0m\n",
      "\u001b[0;32m~/anaconda3/envs/dog/lib/python3.6/http/client.py\u001b[0m in \u001b[0;36m_read_status\u001b[0;34m(self)\u001b[0m\n\u001b[1;32m    256\u001b[0m \u001b[0;34m\u001b[0m\u001b[0m\n\u001b[1;32m    257\u001b[0m     \u001b[0;32mdef\u001b[0m \u001b[0m_read_status\u001b[0m\u001b[0;34m(\u001b[0m\u001b[0mself\u001b[0m\u001b[0;34m)\u001b[0m\u001b[0;34m:\u001b[0m\u001b[0;34m\u001b[0m\u001b[0;34m\u001b[0m\u001b[0m\n\u001b[0;32m--> 258\u001b[0;31m         \u001b[0mline\u001b[0m \u001b[0;34m=\u001b[0m \u001b[0mstr\u001b[0m\u001b[0;34m(\u001b[0m\u001b[0mself\u001b[0m\u001b[0;34m.\u001b[0m\u001b[0mfp\u001b[0m\u001b[0;34m.\u001b[0m\u001b[0mreadline\u001b[0m\u001b[0;34m(\u001b[0m\u001b[0m_MAXLINE\u001b[0m \u001b[0;34m+\u001b[0m \u001b[0;36m1\u001b[0m\u001b[0;34m)\u001b[0m\u001b[0;34m,\u001b[0m \u001b[0;34m\"iso-8859-1\"\u001b[0m\u001b[0;34m)\u001b[0m\u001b[0;34m\u001b[0m\u001b[0;34m\u001b[0m\u001b[0m\n\u001b[0m\u001b[1;32m    259\u001b[0m         \u001b[0;32mif\u001b[0m \u001b[0mlen\u001b[0m\u001b[0;34m(\u001b[0m\u001b[0mline\u001b[0m\u001b[0;34m)\u001b[0m \u001b[0;34m>\u001b[0m \u001b[0m_MAXLINE\u001b[0m\u001b[0;34m:\u001b[0m\u001b[0;34m\u001b[0m\u001b[0;34m\u001b[0m\u001b[0m\n\u001b[1;32m    260\u001b[0m             \u001b[0;32mraise\u001b[0m \u001b[0mLineTooLong\u001b[0m\u001b[0;34m(\u001b[0m\u001b[0;34m\"status line\"\u001b[0m\u001b[0;34m)\u001b[0m\u001b[0;34m\u001b[0m\u001b[0;34m\u001b[0m\u001b[0m\n",
      "\u001b[0;32m~/anaconda3/envs/dog/lib/python3.6/socket.py\u001b[0m in \u001b[0;36mreadinto\u001b[0;34m(self, b)\u001b[0m\n\u001b[1;32m    584\u001b[0m         \u001b[0;32mwhile\u001b[0m \u001b[0;32mTrue\u001b[0m\u001b[0;34m:\u001b[0m\u001b[0;34m\u001b[0m\u001b[0;34m\u001b[0m\u001b[0m\n\u001b[1;32m    585\u001b[0m             \u001b[0;32mtry\u001b[0m\u001b[0;34m:\u001b[0m\u001b[0;34m\u001b[0m\u001b[0;34m\u001b[0m\u001b[0m\n\u001b[0;32m--> 586\u001b[0;31m                 \u001b[0;32mreturn\u001b[0m \u001b[0mself\u001b[0m\u001b[0;34m.\u001b[0m\u001b[0m_sock\u001b[0m\u001b[0;34m.\u001b[0m\u001b[0mrecv_into\u001b[0m\u001b[0;34m(\u001b[0m\u001b[0mb\u001b[0m\u001b[0;34m)\u001b[0m\u001b[0;34m\u001b[0m\u001b[0;34m\u001b[0m\u001b[0m\n\u001b[0m\u001b[1;32m    587\u001b[0m             \u001b[0;32mexcept\u001b[0m \u001b[0mtimeout\u001b[0m\u001b[0;34m:\u001b[0m\u001b[0;34m\u001b[0m\u001b[0;34m\u001b[0m\u001b[0m\n\u001b[1;32m    588\u001b[0m                 \u001b[0mself\u001b[0m\u001b[0;34m.\u001b[0m\u001b[0m_timeout_occurred\u001b[0m \u001b[0;34m=\u001b[0m \u001b[0;32mTrue\u001b[0m\u001b[0;34m\u001b[0m\u001b[0;34m\u001b[0m\u001b[0m\n",
      "\u001b[0;32m~/anaconda3/envs/dog/lib/python3.6/site-packages/urllib3/contrib/pyopenssl.py\u001b[0m in \u001b[0;36mrecv_into\u001b[0;34m(self, *args, **kwargs)\u001b[0m\n\u001b[1;32m    278\u001b[0m     \u001b[0;32mdef\u001b[0m \u001b[0mrecv_into\u001b[0m\u001b[0;34m(\u001b[0m\u001b[0mself\u001b[0m\u001b[0;34m,\u001b[0m \u001b[0;34m*\u001b[0m\u001b[0margs\u001b[0m\u001b[0;34m,\u001b[0m \u001b[0;34m**\u001b[0m\u001b[0mkwargs\u001b[0m\u001b[0;34m)\u001b[0m\u001b[0;34m:\u001b[0m\u001b[0;34m\u001b[0m\u001b[0;34m\u001b[0m\u001b[0m\n\u001b[1;32m    279\u001b[0m         \u001b[0;32mtry\u001b[0m\u001b[0;34m:\u001b[0m\u001b[0;34m\u001b[0m\u001b[0;34m\u001b[0m\u001b[0m\n\u001b[0;32m--> 280\u001b[0;31m             \u001b[0;32mreturn\u001b[0m \u001b[0mself\u001b[0m\u001b[0;34m.\u001b[0m\u001b[0mconnection\u001b[0m\u001b[0;34m.\u001b[0m\u001b[0mrecv_into\u001b[0m\u001b[0;34m(\u001b[0m\u001b[0;34m*\u001b[0m\u001b[0margs\u001b[0m\u001b[0;34m,\u001b[0m \u001b[0;34m**\u001b[0m\u001b[0mkwargs\u001b[0m\u001b[0;34m)\u001b[0m\u001b[0;34m\u001b[0m\u001b[0;34m\u001b[0m\u001b[0m\n\u001b[0m\u001b[1;32m    281\u001b[0m         \u001b[0;32mexcept\u001b[0m \u001b[0mOpenSSL\u001b[0m\u001b[0;34m.\u001b[0m\u001b[0mSSL\u001b[0m\u001b[0;34m.\u001b[0m\u001b[0mSysCallError\u001b[0m \u001b[0;32mas\u001b[0m \u001b[0me\u001b[0m\u001b[0;34m:\u001b[0m\u001b[0;34m\u001b[0m\u001b[0;34m\u001b[0m\u001b[0m\n\u001b[1;32m    282\u001b[0m             \u001b[0;32mif\u001b[0m \u001b[0mself\u001b[0m\u001b[0;34m.\u001b[0m\u001b[0msuppress_ragged_eofs\u001b[0m \u001b[0;32mand\u001b[0m \u001b[0me\u001b[0m\u001b[0;34m.\u001b[0m\u001b[0margs\u001b[0m \u001b[0;34m==\u001b[0m \u001b[0;34m(\u001b[0m\u001b[0;34m-\u001b[0m\u001b[0;36m1\u001b[0m\u001b[0;34m,\u001b[0m \u001b[0;34m'Unexpected EOF'\u001b[0m\u001b[0;34m)\u001b[0m\u001b[0;34m:\u001b[0m\u001b[0;34m\u001b[0m\u001b[0;34m\u001b[0m\u001b[0m\n",
      "\u001b[0;32m~/anaconda3/envs/dog/lib/python3.6/site-packages/OpenSSL/SSL.py\u001b[0m in \u001b[0;36mrecv_into\u001b[0;34m(self, buffer, nbytes, flags)\u001b[0m\n\u001b[1;32m   1819\u001b[0m             \u001b[0mresult\u001b[0m \u001b[0;34m=\u001b[0m \u001b[0m_lib\u001b[0m\u001b[0;34m.\u001b[0m\u001b[0mSSL_peek\u001b[0m\u001b[0;34m(\u001b[0m\u001b[0mself\u001b[0m\u001b[0;34m.\u001b[0m\u001b[0m_ssl\u001b[0m\u001b[0;34m,\u001b[0m \u001b[0mbuf\u001b[0m\u001b[0;34m,\u001b[0m \u001b[0mnbytes\u001b[0m\u001b[0;34m)\u001b[0m\u001b[0;34m\u001b[0m\u001b[0;34m\u001b[0m\u001b[0m\n\u001b[1;32m   1820\u001b[0m         \u001b[0;32melse\u001b[0m\u001b[0;34m:\u001b[0m\u001b[0;34m\u001b[0m\u001b[0;34m\u001b[0m\u001b[0m\n\u001b[0;32m-> 1821\u001b[0;31m             \u001b[0mresult\u001b[0m \u001b[0;34m=\u001b[0m \u001b[0m_lib\u001b[0m\u001b[0;34m.\u001b[0m\u001b[0mSSL_read\u001b[0m\u001b[0;34m(\u001b[0m\u001b[0mself\u001b[0m\u001b[0;34m.\u001b[0m\u001b[0m_ssl\u001b[0m\u001b[0;34m,\u001b[0m \u001b[0mbuf\u001b[0m\u001b[0;34m,\u001b[0m \u001b[0mnbytes\u001b[0m\u001b[0;34m)\u001b[0m\u001b[0;34m\u001b[0m\u001b[0;34m\u001b[0m\u001b[0m\n\u001b[0m\u001b[1;32m   1822\u001b[0m         \u001b[0mself\u001b[0m\u001b[0;34m.\u001b[0m\u001b[0m_raise_ssl_error\u001b[0m\u001b[0;34m(\u001b[0m\u001b[0mself\u001b[0m\u001b[0;34m.\u001b[0m\u001b[0m_ssl\u001b[0m\u001b[0;34m,\u001b[0m \u001b[0mresult\u001b[0m\u001b[0;34m)\u001b[0m\u001b[0;34m\u001b[0m\u001b[0;34m\u001b[0m\u001b[0m\n\u001b[1;32m   1823\u001b[0m \u001b[0;34m\u001b[0m\u001b[0m\n",
      "\u001b[0;31mKeyboardInterrupt\u001b[0m: "
     ]
    }
   ],
   "source": [
    "for breed in breed_list:\n",
    "    url = 'https://dog.ceo/api/breed/{}/images/random/10000000'.format(breed)\n",
    "    print(url)\n",
    "    dog_list = requests.get(url).json()['message']\n",
    "    print(dog_list)\n",
    "    "
   ]
  },
  {
   "cell_type": "code",
   "execution_count": 31,
   "metadata": {},
   "outputs": [
    {
     "data": {
      "text/plain": [
       "['https://images.dog.ceo/breeds/akita/512px-Ainu-Dog.jpg',\n",
       " 'https://images.dog.ceo/breeds/akita/512px-Akita_inu.jpeg',\n",
       " 'https://images.dog.ceo/breeds/akita/Akina_Inu_in_Riga_1.JPG',\n",
       " 'https://images.dog.ceo/breeds/akita/Akita_Dog.jpg',\n",
       " 'https://images.dog.ceo/breeds/akita/Akita_Inu_dog.jpg',\n",
       " 'https://images.dog.ceo/breeds/akita/Akita_hiking_in_Shpella_e_Pëllumbasit.JPG',\n",
       " 'https://images.dog.ceo/breeds/akita/Akita_inu_blanc.jpg',\n",
       " 'https://images.dog.ceo/breeds/akita/An_Akita_Inu_resting.jpg',\n",
       " 'https://images.dog.ceo/breeds/akita/Japaneseakita.jpg']"
      ]
     },
     "execution_count": 31,
     "metadata": {},
     "output_type": "execute_result"
    }
   ],
   "source": [
    "dog_list"
   ]
  },
  {
   "cell_type": "code",
   "execution_count": 20,
   "metadata": {},
   "outputs": [],
   "source": [
    "\n",
    "#url = 'https://images.dog.ceo/breeds/akita/512px-Ainu-Dog.jpg'\n",
    "#save_fn_relPath = url.split('breeds/')[-1]\n",
    "#print(save_fn_relPath)\n",
    "def getNsave(urlx):\n",
    "    response = requests.get(urlx, stream=True)\n",
    "    save_fn_relPath = urlx.split('breeds/')[-1]\n",
    "    fnx = os.path.join(os.path.dirname(os.getcwd()),'data', 'raw', save_fn_relPath)\n",
    "    #print(fnx)\n",
    "    if not os.path.isdir(os.path.dirname(fnx)):\n",
    "        os.makedirs(os.path.dirname(fnx))\n",
    "    with open(fnx, 'wb') as out_file:\n",
    "        shutil.copyfileobj(response.raw, out_file)\n",
    "    del response"
   ]
  },
  {
   "cell_type": "code",
   "execution_count": 21,
   "metadata": {},
   "outputs": [],
   "source": [
    "getNsave('https://images.dog.ceo/breeds/akita/512px-Ainu-Dog.jpg')"
   ]
  },
  {
   "cell_type": "code",
   "execution_count": 29,
   "metadata": {},
   "outputs": [
    {
     "name": "stderr",
     "output_type": "stream",
     "text": [
      "\n",
      "\n",
      "\n",
      "\n",
      "\n",
      "\n",
      "\n",
      "  0%|          | 0/10 [00:00<?, ?it/s]\u001b[A\u001b[A\u001b[A\u001b[A\u001b[A\u001b[A\u001b[A"
     ]
    },
    {
     "name": "stdout",
     "output_type": "stream",
     "text": [
      "shiba\n"
     ]
    },
    {
     "name": "stderr",
     "output_type": "stream",
     "text": [
      "\n",
      "\n",
      "\n",
      "\n",
      "\n",
      "\n",
      "\n",
      " 10%|█         | 1/10 [00:01<00:17,  1.96s/it]\u001b[A\u001b[A\u001b[A\u001b[A\u001b[A\u001b[A\u001b[A"
     ]
    },
    {
     "name": "stdout",
     "output_type": "stream",
     "text": [
      "shihtzu\n"
     ]
    },
    {
     "name": "stderr",
     "output_type": "stream",
     "text": [
      "\n",
      "\n",
      "\n",
      "\n",
      "\n",
      "\n",
      "\n",
      " 20%|██        | 2/10 [01:11<02:58, 22.30s/it]\u001b[A\u001b[A\u001b[A\u001b[A\u001b[A\u001b[A\u001b[A"
     ]
    },
    {
     "name": "stdout",
     "output_type": "stream",
     "text": [
      "spaniel\n"
     ]
    },
    {
     "name": "stderr",
     "output_type": "stream",
     "text": [
      "\n",
      "\n",
      "\n",
      "\n",
      "\n",
      "\n",
      "\n",
      " 30%|███       | 3/10 [10:56<22:17, 191.04s/it]\u001b[A\u001b[A\u001b[A\u001b[A\u001b[A\u001b[A\u001b[A"
     ]
    },
    {
     "name": "stdout",
     "output_type": "stream",
     "text": [
      "springer\n"
     ]
    },
    {
     "name": "stderr",
     "output_type": "stream",
     "text": [
      "\n",
      "\n",
      "\n",
      "\n",
      "\n",
      "\n",
      "\n",
      " 40%|████      | 4/10 [12:32<16:15, 162.55s/it]\u001b[A\u001b[A\u001b[A\u001b[A\u001b[A\u001b[A\u001b[A"
     ]
    },
    {
     "name": "stdout",
     "output_type": "stream",
     "text": [
      "stbernard\n"
     ]
    },
    {
     "name": "stderr",
     "output_type": "stream",
     "text": [
      "\n",
      "\n",
      "\n",
      "\n",
      "\n",
      "\n",
      "\n",
      " 50%|█████     | 5/10 [14:13<12:00, 144.10s/it]\u001b[A\u001b[A\u001b[A\u001b[A\u001b[A\u001b[A\u001b[A"
     ]
    },
    {
     "name": "stdout",
     "output_type": "stream",
     "text": [
      "terrier\n"
     ]
    },
    {
     "name": "stderr",
     "output_type": "stream",
     "text": [
      "\n",
      "\n",
      "\n",
      "\n",
      "\n",
      "\n",
      "\n",
      " 60%|██████    | 6/10 [23:47<18:12, 273.02s/it]\u001b[A\u001b[A\u001b[A\u001b[A\u001b[A\u001b[A\u001b[A"
     ]
    },
    {
     "name": "stdout",
     "output_type": "stream",
     "text": [
      "vizsla\n"
     ]
    },
    {
     "name": "stderr",
     "output_type": "stream",
     "text": [
      "\n",
      "\n",
      "\n",
      "\n",
      "\n",
      "\n",
      "\n",
      " 70%|███████   | 7/10 [25:18<10:55, 218.54s/it]\u001b[A\u001b[A\u001b[A\u001b[A\u001b[A\u001b[A\u001b[A"
     ]
    },
    {
     "name": "stdout",
     "output_type": "stream",
     "text": [
      "weimaraner\n"
     ]
    },
    {
     "name": "stderr",
     "output_type": "stream",
     "text": [
      "\n",
      "\n",
      "\n",
      "\n",
      "\n",
      "\n",
      "\n",
      " 80%|████████  | 8/10 [26:54<06:03, 181.72s/it]\u001b[A\u001b[A\u001b[A\u001b[A\u001b[A\u001b[A\u001b[A"
     ]
    },
    {
     "name": "stdout",
     "output_type": "stream",
     "text": [
      "whippet\n"
     ]
    },
    {
     "name": "stderr",
     "output_type": "stream",
     "text": [
      "\n",
      "\n",
      "\n",
      "\n",
      "\n",
      "\n",
      "\n",
      " 90%|█████████ | 9/10 [28:48<02:41, 161.20s/it]\u001b[A\u001b[A\u001b[A\u001b[A\u001b[A\u001b[A\u001b[A"
     ]
    },
    {
     "name": "stdout",
     "output_type": "stream",
     "text": [
      "wolfhound\n"
     ]
    },
    {
     "name": "stderr",
     "output_type": "stream",
     "text": [
      "\n",
      "\n",
      "\n",
      "\n",
      "\n",
      "\n",
      "\n",
      "100%|██████████| 10/10 [31:03<00:00, 153.37s/it]\u001b[A\u001b[A\u001b[A\u001b[A\u001b[A\u001b[A\u001b[A"
     ]
    }
   ],
   "source": [
    "dog_breedList_url = 'https://dog.ceo/api/breeds/list/all'\n",
    "breeds = requests.get(dog_breedList_url).json()['message']\n",
    "breed_list = [*breeds]\n",
    "breed_list[1]\n",
    "\n",
    "for breed in tqdm(breed_list[-10:]):\n",
    "    url = 'https://dog.ceo/api/breed/{}/images/random/10000000'.format(breed)\n",
    "    print(breed)\n",
    "    dog_list = requests.get(url).json()['message']\n",
    "    #print(dog_list)\n",
    "    for dog in (dog_list):\n",
    "        #print(dog)\n",
    "        getNsave(urlx=dog)"
   ]
  },
  {
   "cell_type": "code",
   "execution_count": null,
   "metadata": {},
   "outputs": [],
   "source": []
  }
 ],
 "metadata": {
  "kernelspec": {
   "display_name": "Python 3",
   "language": "python",
   "name": "python3"
  },
  "language_info": {
   "codemirror_mode": {
    "name": "ipython",
    "version": 3
   },
   "file_extension": ".py",
   "mimetype": "text/x-python",
   "name": "python",
   "nbconvert_exporter": "python",
   "pygments_lexer": "ipython3",
   "version": "3.6.8"
  }
 },
 "nbformat": 4,
 "nbformat_minor": 2
}
