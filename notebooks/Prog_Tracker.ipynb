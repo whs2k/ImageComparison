{
 "cells": [
  {
   "cell_type": "code",
   "execution_count": 15,
   "metadata": {},
   "outputs": [
    {
     "name": "stdout",
     "output_type": "stream",
     "text": [
      "2019-07-28 09:45:55.793735\n",
      "_dogCropFns:  13732\n",
      "/Users/officialbiznas/Documents/GitHub/ImageSimilarity/data/raw/setter-irish/n02100877_8900_dogCrop.jpg\n",
      "/Users/officialbiznas/Documents/GitHub/ImageSimilarity/data/raw/setter-irish/n02100877_257_dogCrop.jpg\n",
      "/Users/officialbiznas/Documents/GitHub/ImageSimilarity/data/raw/setter-irish/n02100877_5229_dogCrop.jpg\n"
     ]
    }
   ],
   "source": [
    "import glob2\n",
    "import datetime\n",
    "import os\n",
    "print(datetime.datetime.now())\n",
    "fns = glob2.glob(os.path.join(os.path.dirname(os.getcwd()), 'data', 'raw','**/*_dogCrop.jpg'))\n",
    "print('_dogCropFns: ', len(fns))\n",
    "for fn in fns[0:3]:\n",
    "    print(fn)"
   ]
  },
  {
   "cell_type": "code",
   "execution_count": 16,
   "metadata": {},
   "outputs": [
    {
     "name": "stdout",
     "output_type": "stream",
     "text": [
      "2019-07-28 09:46:00.871354\n",
      "_dogCropFns*:  13732\n",
      "/Users/officialbiznas/Documents/GitHub/ImageSimilarity/data/raw/setter-irish/n02100877_8900_dogCrop.jpg\n",
      "/Users/officialbiznas/Documents/GitHub/ImageSimilarity/data/raw/setter-irish/n02100877_257_dogCrop.jpg\n",
      "/Users/officialbiznas/Documents/GitHub/ImageSimilarity/data/raw/setter-irish/n02100877_5229_dogCrop.jpg\n"
     ]
    }
   ],
   "source": [
    "print(datetime.datetime.now())\n",
    "fns = glob2.glob(os.path.join(os.path.dirname(os.getcwd()), 'data', 'raw','**/*_dogCrop*'))\n",
    "print('_dogCropFns*: ', len(fns))\n",
    "for fn in fns[0:3]:\n",
    "    print(fn)"
   ]
  },
  {
   "cell_type": "code",
   "execution_count": 14,
   "metadata": {},
   "outputs": [
    {
     "name": "stdout",
     "output_type": "stream",
     "text": [
      "2019-07-28 09:45:41.310274\n",
      "all fns:  32003\n",
      "/Users/officialbiznas/Documents/GitHub/ImageSimilarity/data/raw/setter-irish\n",
      "/Users/officialbiznas/Documents/GitHub/ImageSimilarity/data/raw/spaniel-japanese\n",
      "/Users/officialbiznas/Documents/GitHub/ImageSimilarity/data/raw/dane-great\n"
     ]
    }
   ],
   "source": [
    "print(datetime.datetime.now())\n",
    "fns = glob2.glob(os.path.join(os.path.dirname(os.getcwd()), 'data', 'raw','**/*'))\n",
    "print('all fns: ', len(fns))\n",
    "for fn in fns[0:3]:\n",
    "    print(fn)"
   ]
  },
  {
   "cell_type": "code",
   "execution_count": null,
   "metadata": {},
   "outputs": [],
   "source": []
  }
 ],
 "metadata": {
  "kernelspec": {
   "display_name": "Python 3",
   "language": "python",
   "name": "python3"
  },
  "language_info": {
   "codemirror_mode": {
    "name": "ipython",
    "version": 3
   },
   "file_extension": ".py",
   "mimetype": "text/x-python",
   "name": "python",
   "nbconvert_exporter": "python",
   "pygments_lexer": "ipython3",
   "version": "3.6.8"
  }
 },
 "nbformat": 4,
 "nbformat_minor": 2
}
